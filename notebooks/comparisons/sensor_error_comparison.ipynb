{
 "cells": [
  {
   "cell_type": "code",
   "execution_count": 1,
   "id": "initial_id",
   "metadata": {
    "collapsed": true,
    "ExecuteTime": {
     "end_time": "2025-01-26T17:14:50.729420Z",
     "start_time": "2025-01-26T17:14:39.522568Z"
    }
   },
   "outputs": [],
   "source": [
    "#import models.ekf as ekf_support\n",
    "from models.pibnn import PIBNN\n",
    "from models.bnn import BNN\n",
    "import helper.training_preprocess as tp\n",
    "import helper.eval_worker as ew\n",
    "\n",
    "import torch\n",
    "import numpy as np\n",
    "import matplotlib.pyplot as plt"
   ]
  },
  {
   "cell_type": "markdown",
   "source": [
    "## SENSOR ERROR EXPERIMENTS"
   ],
   "metadata": {
    "collapsed": false
   },
   "id": "8013c69c8489130a"
  },
  {
   "cell_type": "code",
   "outputs": [],
   "source": [
    "columns_of_interest_dict = tp.export_preproc_var_columns()\n",
    "x_columns_of_interest = columns_of_interest_dict['x_columns_of_interest']\n",
    "y_columns_of_interest = columns_of_interest_dict['y_columns_of_interest']\n",
    "z_obs_columns = columns_of_interest_dict['z_obs_columns']"
   ],
   "metadata": {
    "collapsed": false,
    "ExecuteTime": {
     "end_time": "2025-01-26T17:14:50.734712Z",
     "start_time": "2025-01-26T17:14:50.731436Z"
    }
   },
   "id": "7c7d9c4e00fe4ccb",
   "execution_count": 2
  },
  {
   "cell_type": "code",
   "outputs": [],
   "source": [
    "def visualize_final_estimates_traj(in_traj_no, truth_traj_data, ekf_traj_data, bnn_traj_data, pinn_traj_data, threeD=False,\n",
    "                                     smoothing=False):\n",
    "    \"\"\"\n",
    "        TRUTH: RED\n",
    "        EKF: YELLOW\n",
    "        BNN: BLUE\n",
    "        PINN: MAGENTA\n",
    "    \"\"\"\n",
    "    def moving_average(data, window_size):\n",
    "        return np.convolve(data, np.ones(window_size) / window_size, mode='valid')\n",
    "\n",
    "    truth_data = truth_traj_data[in_traj_no]\n",
    "    ekf_data = ekf_traj_data[in_traj_no]['state_est']\n",
    "    ekf_uncer = ekf_traj_data[in_traj_no]['state_uncer']\n",
    "    bnn_data = bnn_traj_data[in_traj_no]['state_est']\n",
    "    bnn_uncer = bnn_traj_data[in_traj_no]['state_uncer']\n",
    "    pinn_data = pinn_traj_data[in_traj_no]['state_est']\n",
    "    pinn_uncer = pinn_traj_data[in_traj_no]['state_uncer']\n",
    "\n",
    "    x_coords_truth = [point[0] for point in truth_data]\n",
    "    y_coords_truth = [point[1] for point in truth_data]\n",
    "    z_coords_truth = [point[2] for point in truth_data]\n",
    "\n",
    "    x_coords_ekf = [point[0] for point in ekf_data]\n",
    "    y_coords_ekf = [point[1] for point in ekf_data]\n",
    "    z_coords_ekf = [point[2] for point in ekf_data]\n",
    "\n",
    "    x_coords_bnn = [point[0] for point in bnn_data]\n",
    "    y_coords_bnn = [point[1] for point in bnn_data]\n",
    "    z_coords_bnn = [point[2] for point in bnn_data]\n",
    "\n",
    "    x_coords_pinn = [point[0] for point in pinn_data]\n",
    "    y_coords_pinn = [point[1] for point in pinn_data]\n",
    "    z_coords_pinn = [point[2] for point in pinn_data]\n",
    "\n",
    "    ## Error + Uncertainty Plot ##\n",
    "    ekf_euclid_errs = np.array([np.linalg.norm(a - b) for a, b in zip(truth_data, ekf_data)])\n",
    "    ekf_uncer_mean = np.array([np.sqrt(np.mean(vector)) for vector in ekf_uncer])\n",
    "    ekf_lower_bound = ekf_euclid_errs - ekf_uncer_mean\n",
    "    ekf_upper_bound = ekf_euclid_errs + ekf_uncer_mean\n",
    "\n",
    "    bnn_euclid_errs = np.array([np.linalg.norm(a - b) for a, b in zip(truth_data, bnn_data)])\n",
    "    bnn_uncer_mean = np.array([np.mean(vector.numpy()) for vector in bnn_uncer])\n",
    "    bnn_lower_bound = bnn_euclid_errs - bnn_uncer_mean\n",
    "    bnn_upper_bound = bnn_euclid_errs + bnn_uncer_mean\n",
    "\n",
    "    pinn_euclid_errs = np.array([np.linalg.norm(a - b) for a, b in zip(truth_data, pinn_data)])\n",
    "    pinn_uncer_mean = np.array([np.mean(vector) for vector in pinn_uncer])\n",
    "    pinn_lower_bound = pinn_euclid_errs - pinn_uncer_mean\n",
    "    pinn_upper_bound = pinn_euclid_errs + pinn_uncer_mean\n",
    "\n",
    "    plt.figure(figsize=(10, 6))\n",
    "\n",
    "    plt.plot(ekf_euclid_errs, label='EKF', color='y', linewidth=3)\n",
    "    plt.fill_between(range(len(ekf_euclid_errs)), ekf_lower_bound, ekf_upper_bound, color='y', alpha=0.3,\n",
    "                     label='EKF Uncertainty')\n",
    "\n",
    "    plt.plot(moving_average(bnn_euclid_errs, 5), label='BNN', color='b', linewidth=3)\n",
    "    plt.fill_between(range(len(bnn_euclid_errs)), bnn_lower_bound, bnn_upper_bound, color='b', alpha=0.3,\n",
    "                     label='BNN Uncertainty')\n",
    "\n",
    "    plt.plot(moving_average(pinn_euclid_errs, 5), label='PINN', color='m', linewidth=3)\n",
    "    plt.fill_between(range(len(pinn_euclid_errs)), pinn_lower_bound, pinn_upper_bound, color='m', alpha=0.3,\n",
    "                     label='PINN Uncertainty')\n",
    "\n",
    "    plt.title('Model State Estimate Error and Uncertainty wrt Truth', fontsize=16)\n",
    "    plt.xlabel('Time Step', fontsize=14)\n",
    "    plt.ylabel('Error [m]', fontsize=14)\n",
    "    plt.legend(loc='upper left')\n",
    "    plt.show()\n",
    "    ## Error + Uncertainty Plot ##\n",
    "\n",
    "    ## Trajectory Generation Compare ##\n",
    "    if smoothing:\n",
    "        window_size = int(0.05 * len(x_coords_bnn))\n",
    "        x_coords_bnn = moving_average(x_coords_bnn, window_size)\n",
    "        y_coords_bnn = moving_average(y_coords_bnn, window_size)\n",
    "        z_coords_bnn = moving_average(z_coords_bnn, window_size)\n",
    "\n",
    "        x_coords_pinn = moving_average(x_coords_pinn, window_size)\n",
    "        y_coords_pinn = moving_average(y_coords_pinn, window_size)\n",
    "        z_coords_pinn = moving_average(z_coords_pinn, window_size)\n",
    "\n",
    "    if threeD:\n",
    "        fig = plt.figure()\n",
    "\n",
    "        ax = fig.add_subplot(111, projection='3d')\n",
    "\n",
    "        ax.scatter(x_coords_truth, y_coords_truth, z_coords_truth, c='r', marker='x', label=\"Truth\")\n",
    "        ax.scatter(x_coords_ekf, y_coords_ekf, z_coords_ekf, c='y', marker='^', label=\"EKF\")\n",
    "        ax.scatter(x_coords_bnn, y_coords_bnn, z_coords_bnn, c='b', marker='o', label=\"BNN\")\n",
    "        ax.scatter(x_coords_pinn, y_coords_pinn, z_coords_pinn, c='m', marker='*', label=\"PINN\")\n",
    "\n",
    "        ax.set_xlabel('X [m]')\n",
    "        ax.set_ylabel('Y [m]')\n",
    "        ax.set_zlabel('Z [m]')\n",
    "\n",
    "        ax.set_title(f'Model Approximations of Truth Trajectory {in_traj_no}')\n",
    "        ax.legend()\n",
    "        plt.show()\n",
    "    else:\n",
    "        fig, axs = plt.subplots(3, 1, figsize=(10, 15))\n",
    "\n",
    "        # X\n",
    "        axs[0].plot(x_coords_truth, label='Truth', color='r', marker='x', linestyle='-', markersize=5)\n",
    "        axs[0].plot(x_coords_ekf, label='EKF', color='y', marker='^', linestyle='-', markersize=5)\n",
    "        axs[0].plot(x_coords_bnn, label='BNN', color='b', marker='o', linestyle='-', markersize=5)\n",
    "        axs[0].plot(x_coords_pinn, label='PINN', color='m', marker='*', linestyle='-', markersize=5)\n",
    "        axs[0].set_title(f'X Approximations of Sample Trajectory #{in_traj_no}')\n",
    "        axs[0].set_xlabel('Time Step')\n",
    "        axs[0].set_ylabel('X [m]')\n",
    "        axs[0].legend()\n",
    "        axs[0].grid(True)\n",
    "\n",
    "        # Y\n",
    "        axs[1].plot(y_coords_truth, label='Truth', color='r', marker='x', linestyle='-', markersize=5)\n",
    "        axs[1].plot(y_coords_ekf, label='EKF', color='y', marker='^', linestyle='-', markersize=5)\n",
    "        axs[1].plot(y_coords_bnn, label='BNN', color='b', marker='o', linestyle='-', markersize=5)\n",
    "        axs[1].plot(y_coords_pinn, label='PINN', color='m', marker='*', linestyle='-', markersize=5)\n",
    "        axs[1].set_title(f'Y Approximations of Sample Trajectory #{in_traj_no}')\n",
    "        axs[1].set_xlabel('Time Step')\n",
    "        axs[1].set_ylabel('Y [m]')\n",
    "        axs[1].legend()\n",
    "        axs[1].grid(True)\n",
    "\n",
    "        # Z\n",
    "        axs[2].plot(z_coords_truth, label='Truth', color='r', marker='x', linestyle='-', markersize=5)\n",
    "        axs[2].plot(z_coords_ekf, label='EKF', color='y', marker='^', linestyle='-', markersize=5)\n",
    "        axs[2].plot(z_coords_bnn, label='BNN', color='b', marker='o', linestyle='-', markersize=5)\n",
    "        axs[2].plot(z_coords_pinn, label='PINN', color='m', marker='*', linestyle='-', markersize=5)\n",
    "        axs[2].set_title(f'Z Approximations of Sample Trajectory #{in_traj_no}')\n",
    "        axs[2].set_xlabel('Time Step')\n",
    "        axs[2].set_ylabel('Z [m]')\n",
    "        axs[2].legend()\n",
    "        axs[2].grid(True)\n",
    "\n",
    "        # Adjust layout\n",
    "        plt.tight_layout()\n",
    "        plt.show()\n",
    "    ## Trajectory Generation Compare ##\n",
    "    return None"
   ],
   "metadata": {
    "collapsed": false,
    "ExecuteTime": {
     "end_time": "2025-01-26T17:14:50.761213Z",
     "start_time": "2025-01-26T17:14:50.735720Z"
    }
   },
   "id": "4c2eb5993b3504cf",
   "execution_count": 3
  },
  {
   "cell_type": "code",
   "outputs": [],
   "source": [
    "def run_model_eval(bnn_filename, pibnn_filename, sensor_uncer_in=1, ce=False):\n",
    "    print(f\"RUNNING MODEL EVAL COMPARISON OF {sensor_uncer_in} M ERROR\")\n",
    "    loss_params = {'ml': 0.7, 'physics': 0.3}\n",
    "    eval_stats = {}\n",
    "\n",
    "    train_df, test_df, train_traj_data, test_traj_data = tp.readin_dataframes(train_split=0.9, sensor_pos_uncer=sensor_uncer_in)\n",
    "    X_test, y_test, df_cleaned_test = tp.preprocess_and_remove_inter_trajectory_indices(test_df)\n",
    "    z_obs_test = torch.tensor(df_cleaned_test[z_obs_columns][1:].to_numpy(), dtype=torch.float32)\n",
    "    \n",
    "    bnn_model = BNN(input_size=len(x_columns_of_interest), output_size=len(y_columns_of_interest), hidden_layer_size=64, prior_sigma_lay=0.01, epochs=10000, show_info=True)\n",
    "    bnn_model.load_model_weights(f'../../models/saved_weights/bnn/{bnn_filename}')\n",
    "\n",
    "    pinn_model = PIBNN(input_size=8, output_size=len(y_columns_of_interest), hidden_layer_size=64, prior_sigma_lay=0.01, sensor_measurement_uncertainty=sensor_uncer_in, lambda_params=loss_params, epochs=10000, bias_in=True)\n",
    "    pinn_model.load_model_weights(f'../../models/saved_weights/pibnn/{pibnn_filename}')\n",
    "    \n",
    "    truth_traj, ekf_proposed_traj, avg_ekf_err, avg_ekf_uncertainty, avg_meas_err, avg_meas_uncertainty = ekf_support.run_EKF_traj_data(test_df)\n",
    "    eval_stats['EKF_ERR'] = avg_ekf_err\n",
    "    eval_stats['EKF_UNCER'] = avg_ekf_uncertainty\n",
    "    \n",
    "    avg_bnn_model_err, avg_bnn_model_uncertainty, bnn_model_proposed_traj = ew.evaluate_bayesian_neural_model(bnn_model, df_cleaned_test, X_test, y_test, z_obs_test, pinn_eval=False, apply_EKF_in=False, continuous_eval=ce)\n",
    "    eval_stats['BNN_ERR'] = avg_bnn_model_err\n",
    "    eval_stats['BNN_UNCER'] = avg_bnn_model_uncertainty\n",
    "    \n",
    "    avg_pinn_model_err, avg_pinn_model_uncertainty, pinn_model_proposed_traj = ew.evaluate_bayesian_neural_model(pinn_model, df_cleaned_test, X_test, y_test, z_obs_test, pinn_eval=True, apply_EKF_in=True, continuous_eval=ce)\n",
    "    eval_stats['PIBNN_ERR'] = avg_pinn_model_err\n",
    "    eval_stats['PIBNN_UNCER'] = avg_pinn_model_uncertainty\n",
    "    \n",
    "    return truth_traj, ekf_proposed_traj, bnn_model_proposed_traj, pinn_model_proposed_traj, eval_stats"
   ],
   "metadata": {
    "collapsed": false,
    "ExecuteTime": {
     "end_time": "2025-01-26T17:14:50.772510Z",
     "start_time": "2025-01-26T17:14:50.762218Z"
    }
   },
   "id": "b421e64aa1f206d7",
   "execution_count": 4
  },
  {
   "cell_type": "code",
   "outputs": [],
   "source": [
    "def process_stats(stats_in):\n",
    "    print(f\"EKF ERR: {np.mean(stats_in['EKF_ERR'])}, EKF UNCER: {np.mean(stats_in['EKF_UNCER'])}\")\n",
    "    print(f\"BNN ERR: {np.mean(stats_in['BNN_ERR'])}, BNN UNCER: {np.mean(stats_in['BNN_UNCER'])}\")\n",
    "    print(f\"EKPIBNNF ERR: {np.mean(stats_in['PIBNN_ERR'])}, EKPIBNNF UNCER: {np.mean(stats_in['PIBNN_UNCER'])}\")"
   ],
   "metadata": {
    "collapsed": false,
    "ExecuteTime": {
     "end_time": "2025-01-26T17:14:50.783762Z",
     "start_time": "2025-01-26T17:14:50.774516Z"
    }
   },
   "id": "bff92da6a73931b7",
   "execution_count": 5
  },
  {
   "cell_type": "code",
   "outputs": [],
   "source": [
    "test_traj_no = 20"
   ],
   "metadata": {
    "collapsed": false,
    "ExecuteTime": {
     "end_time": "2025-01-26T17:14:50.794970Z",
     "start_time": "2025-01-26T17:14:50.784771Z"
    }
   },
   "id": "60a1319138426f28",
   "execution_count": 6
  },
  {
   "cell_type": "markdown",
   "source": [
    "### Sigma = 1 Meters"
   ],
   "metadata": {
    "collapsed": false
   },
   "id": "5ee8db2a11f90071"
  },
  {
   "cell_type": "code",
   "outputs": [],
   "source": [
    "bnn_weights = \"10k_1MSU_64H_bnn_model_2024-12-15_20-57-12.pth\"\n",
    "pibnn_weights = \"10k_1MSU_64H_pibnn_model_2024-12-15_22-41-36.pth\""
   ],
   "metadata": {
    "collapsed": false,
    "ExecuteTime": {
     "end_time": "2025-01-26T17:14:50.807530Z",
     "start_time": "2025-01-26T17:14:50.795976Z"
    }
   },
   "id": "93bf20eff1da1fdf",
   "execution_count": 7
  },
  {
   "cell_type": "code",
   "outputs": [
    {
     "name": "stdout",
     "output_type": "stream",
     "text": [
      "RUNNING MODEL EVAL COMPARISON OF 1 M ERROR\n",
      "Number of Train Trajectories: 4584\n",
      "Number of Test Trajectories: 509\n",
      "Model weights loaded from ../../models/saved_weights/bnn/10k_1MSU_64H_bnn_model_2024-12-15_20-57-12.pth\n",
      "Model weights loaded from ../../models/saved_weights/pibnn/10k_1MSU_64H_pibnn_model_2024-12-15_22-41-36.pth\n"
     ]
    },
    {
     "name": "stderr",
     "output_type": "stream",
     "text": [
      "C:\\Users\\guptaa2\\Documents\\JHUEP\\EN705742_Final_Project\\models\\bnn.py:83: FutureWarning: You are using `torch.load` with `weights_only=False` (the current default value), which uses the default pickle module implicitly. It is possible to construct malicious pickle data which will execute arbitrary code during unpickling (See https://github.com/pytorch/pytorch/blob/main/SECURITY.md#untrusted-models for more details). In a future release, the default value for `weights_only` will be flipped to `True`. This limits the functions that could be executed during unpickling. Arbitrary objects will no longer be allowed to be loaded via this mode unless they are explicitly allowlisted by the user via `torch.serialization.add_safe_globals`. We recommend you start setting `weights_only=True` for any use case where you don't have full control of the loaded file. Please open an issue on GitHub for any issues related to this experimental feature.\n",
      "  self.load_state_dict(torch.load(filepath))\n",
      "C:\\Users\\guptaa2\\Documents\\JHUEP\\EN705742_Final_Project\\models\\pibnn.py:153: FutureWarning: You are using `torch.load` with `weights_only=False` (the current default value), which uses the default pickle module implicitly. It is possible to construct malicious pickle data which will execute arbitrary code during unpickling (See https://github.com/pytorch/pytorch/blob/main/SECURITY.md#untrusted-models for more details). In a future release, the default value for `weights_only` will be flipped to `True`. This limits the functions that could be executed during unpickling. Arbitrary objects will no longer be allowed to be loaded via this mode unless they are explicitly allowlisted by the user via `torch.serialization.add_safe_globals`. We recommend you start setting `weights_only=True` for any use case where you don't have full control of the loaded file. Please open an issue on GitHub for any issues related to this experimental feature.\n",
      "  self.load_state_dict(torch.load(filepath))\n"
     ]
    },
    {
     "ename": "NameError",
     "evalue": "name 'ekf_support' is not defined",
     "output_type": "error",
     "traceback": [
      "\u001B[1;31m---------------------------------------------------------------------------\u001B[0m",
      "\u001B[1;31mNameError\u001B[0m                                 Traceback (most recent call last)",
      "File \u001B[1;32m<timed exec>:1\u001B[0m\n",
      "Cell \u001B[1;32mIn[4], line 16\u001B[0m, in \u001B[0;36mrun_model_eval\u001B[1;34m(bnn_filename, pibnn_filename, sensor_uncer_in, ce)\u001B[0m\n\u001B[0;32m     13\u001B[0m pinn_model \u001B[38;5;241m=\u001B[39m PIBNN(input_size\u001B[38;5;241m=\u001B[39m\u001B[38;5;241m8\u001B[39m, output_size\u001B[38;5;241m=\u001B[39m\u001B[38;5;28mlen\u001B[39m(y_columns_of_interest), hidden_layer_size\u001B[38;5;241m=\u001B[39m\u001B[38;5;241m64\u001B[39m, prior_sigma_lay\u001B[38;5;241m=\u001B[39m\u001B[38;5;241m0.01\u001B[39m, sensor_measurement_uncertainty\u001B[38;5;241m=\u001B[39msensor_uncer_in, lambda_params\u001B[38;5;241m=\u001B[39mloss_params, epochs\u001B[38;5;241m=\u001B[39m\u001B[38;5;241m10000\u001B[39m, bias_in\u001B[38;5;241m=\u001B[39m\u001B[38;5;28;01mTrue\u001B[39;00m)\n\u001B[0;32m     14\u001B[0m pinn_model\u001B[38;5;241m.\u001B[39mload_model_weights(\u001B[38;5;124mf\u001B[39m\u001B[38;5;124m'\u001B[39m\u001B[38;5;124m../../models/saved_weights/pibnn/\u001B[39m\u001B[38;5;132;01m{\u001B[39;00mpibnn_filename\u001B[38;5;132;01m}\u001B[39;00m\u001B[38;5;124m'\u001B[39m)\n\u001B[1;32m---> 16\u001B[0m truth_traj, ekf_proposed_traj, avg_ekf_err, avg_ekf_uncertainty, avg_meas_err, avg_meas_uncertainty \u001B[38;5;241m=\u001B[39m \u001B[43mekf_support\u001B[49m\u001B[38;5;241m.\u001B[39mrun_EKF_traj_data(test_df)\n\u001B[0;32m     17\u001B[0m eval_stats[\u001B[38;5;124m'\u001B[39m\u001B[38;5;124mEKF_ERR\u001B[39m\u001B[38;5;124m'\u001B[39m] \u001B[38;5;241m=\u001B[39m avg_ekf_err\n\u001B[0;32m     18\u001B[0m eval_stats[\u001B[38;5;124m'\u001B[39m\u001B[38;5;124mEKF_UNCER\u001B[39m\u001B[38;5;124m'\u001B[39m] \u001B[38;5;241m=\u001B[39m avg_ekf_uncertainty\n",
      "\u001B[1;31mNameError\u001B[0m: name 'ekf_support' is not defined"
     ]
    }
   ],
   "source": [
    "%%time\n",
    "one_m_truth_traj, one_m_ekf_proposed_traj, one_m_bnn_model_proposed_traj, one_m_pinn_model_proposed_traj, one_m_eval_stats = run_model_eval(bnn_weights, pibnn_weights, sensor_uncer_in=1)"
   ],
   "metadata": {
    "collapsed": false,
    "ExecuteTime": {
     "end_time": "2025-01-26T17:17:13.239555Z",
     "start_time": "2025-01-26T17:14:50.808538Z"
    }
   },
   "id": "b4a9c00dbee4dde4",
   "execution_count": 8
  },
  {
   "cell_type": "code",
   "outputs": [
    {
     "ename": "NameError",
     "evalue": "name 'one_m_truth_traj' is not defined",
     "output_type": "error",
     "traceback": [
      "\u001B[1;31m---------------------------------------------------------------------------\u001B[0m",
      "\u001B[1;31mNameError\u001B[0m                                 Traceback (most recent call last)",
      "Cell \u001B[1;32mIn[9], line 1\u001B[0m\n\u001B[1;32m----> 1\u001B[0m visualize_final_estimates_traj(test_traj_no, \u001B[43mone_m_truth_traj\u001B[49m, one_m_ekf_proposed_traj, one_m_bnn_model_proposed_traj, one_m_pinn_model_proposed_traj, threeD\u001B[38;5;241m=\u001B[39m\u001B[38;5;28;01mFalse\u001B[39;00m, smoothing\u001B[38;5;241m=\u001B[39m\u001B[38;5;28;01mFalse\u001B[39;00m)\n",
      "\u001B[1;31mNameError\u001B[0m: name 'one_m_truth_traj' is not defined"
     ]
    }
   ],
   "source": [
    "visualize_final_estimates_traj(test_traj_no, one_m_truth_traj, one_m_ekf_proposed_traj, one_m_bnn_model_proposed_traj, one_m_pinn_model_proposed_traj, threeD=False, smoothing=False)"
   ],
   "metadata": {
    "collapsed": false,
    "ExecuteTime": {
     "end_time": "2025-01-26T17:17:13.304975Z",
     "start_time": "2025-01-26T17:17:13.240561Z"
    }
   },
   "id": "c993b209c7dcefa8",
   "execution_count": 9
  },
  {
   "cell_type": "code",
   "outputs": [],
   "source": [
    "process_stats(one_m_eval_stats)"
   ],
   "metadata": {
    "collapsed": false,
    "ExecuteTime": {
     "start_time": "2025-01-26T17:17:13.305987Z"
    }
   },
   "id": "ff2ddccf2eb2bbcc",
   "execution_count": null
  },
  {
   "cell_type": "markdown",
   "source": [
    "### Sigma = 5 Meters"
   ],
   "metadata": {
    "collapsed": false
   },
   "id": "d04e0b98150afadf"
  },
  {
   "cell_type": "code",
   "outputs": [],
   "source": [
    "bnn_weights = \"10k_5MSU_64H_bnn_model_2024-12-16_16-23-22.pth\"\n",
    "pibnn_weights = \"10k_5MSU_64H_pibnn_model_2024-12-16_00-51-53.pth\""
   ],
   "metadata": {
    "collapsed": false,
    "ExecuteTime": {
     "start_time": "2025-01-26T17:17:13.305987Z"
    }
   },
   "id": "1cb3eac3f5c895e0",
   "execution_count": null
  },
  {
   "cell_type": "code",
   "outputs": [],
   "source": [
    "five_m_truth_traj, five_m_ekf_proposed_traj, five_m_bnn_model_proposed_traj, five_m_pinn_model_proposed_traj, five_m_eval_stats = run_model_eval(bnn_weights, pibnn_weights, sensor_uncer_in=5, ce=True)"
   ],
   "metadata": {
    "collapsed": false,
    "ExecuteTime": {
     "start_time": "2025-01-26T17:17:13.306987Z"
    }
   },
   "id": "36a480d1c7959715",
   "execution_count": null
  },
  {
   "cell_type": "code",
   "outputs": [],
   "source": [
    "visualize_final_estimates_traj(test_traj_no, five_m_truth_traj, five_m_ekf_proposed_traj, five_m_bnn_model_proposed_traj, five_m_pinn_model_proposed_traj, threeD=False, smoothing=True)"
   ],
   "metadata": {
    "collapsed": false,
    "ExecuteTime": {
     "start_time": "2025-01-26T17:17:13.306987Z"
    }
   },
   "id": "d5b0a3da23b21315",
   "execution_count": null
  },
  {
   "cell_type": "code",
   "outputs": [],
   "source": [
    "process_stats(five_m_eval_stats)"
   ],
   "metadata": {
    "collapsed": false,
    "ExecuteTime": {
     "start_time": "2025-01-26T17:17:13.307987Z"
    }
   },
   "id": "8059dd5eb5b26e45",
   "execution_count": null
  },
  {
   "cell_type": "markdown",
   "source": [
    "### Sigma = 10 Meters"
   ],
   "metadata": {
    "collapsed": false
   },
   "id": "3a1ea7ccf3240be5"
  },
  {
   "cell_type": "code",
   "outputs": [],
   "source": [
    "bnn_weights = \"10k_10MSU_64H_bnn_model_2024-12-16_13-06-59.pth\"\n",
    "pibnn_weights = \"10k_10MSU_64H_pibnn_model_2024-12-15_17-24-44.pth\""
   ],
   "metadata": {
    "collapsed": false,
    "ExecuteTime": {
     "start_time": "2025-01-26T17:17:13.309987Z"
    }
   },
   "id": "677d55a7e01e5311",
   "execution_count": null
  },
  {
   "cell_type": "code",
   "outputs": [],
   "source": [
    "ten_m_truth_traj, ten_m_ekf_proposed_traj, ten_m_bnn_model_proposed_traj, ten_m_pinn_model_proposed_traj, ten_m_eval_stats = run_model_eval(bnn_weights, pibnn_weights, sensor_uncer_in=10, ce=True)"
   ],
   "metadata": {
    "collapsed": false,
    "ExecuteTime": {
     "start_time": "2025-01-26T17:17:13.310988Z"
    }
   },
   "id": "8f74aee4c6e7e885",
   "execution_count": null
  },
  {
   "cell_type": "code",
   "outputs": [],
   "source": [
    "visualize_final_estimates_traj(test_traj_no, ten_m_truth_traj, ten_m_ekf_proposed_traj, ten_m_bnn_model_proposed_traj, ten_m_pinn_model_proposed_traj, threeD=False, smoothing=True)"
   ],
   "metadata": {
    "collapsed": false,
    "ExecuteTime": {
     "start_time": "2025-01-26T17:17:13.311987Z"
    }
   },
   "id": "557f8e62dd89d443",
   "execution_count": null
  },
  {
   "cell_type": "code",
   "outputs": [],
   "source": [
    "process_stats(ten_m_eval_stats)"
   ],
   "metadata": {
    "collapsed": false,
    "ExecuteTime": {
     "start_time": "2025-01-26T17:17:13.312987Z"
    }
   },
   "id": "d39e721052e6e7b0",
   "execution_count": null
  },
  {
   "cell_type": "markdown",
   "source": [
    "### Bar Graph"
   ],
   "metadata": {
    "collapsed": false
   },
   "id": "cb1000046b85f0c"
  },
  {
   "cell_type": "code",
   "outputs": [],
   "source": [
    "def produce_bar_graph_comp(uncer=False):\n",
    "    if uncer:\n",
    "        labels = ['EKF_UNCER', 'BNN_UNCER', 'PIBNN_UNCER']\n",
    "    else:\n",
    "        labels = ['EKF_ERR', 'BNN_ERR', 'PIBNN_ERR']\n",
    "        \n",
    "    one_m_vals = [np.mean(one_m_eval_stats[key]) for key in labels]\n",
    "    five_m_vals = [np.mean(five_m_eval_stats[key]) for key in labels]\n",
    "    ten_m_vals = [np.mean(ten_m_eval_stats[key]) for key in labels]\n",
    "    x = np.arange(len(labels))\n",
    "    width = 0.25\n",
    "    \n",
    "    fig, ax = plt.subplots(figsize=(8, 6))\n",
    "    bars1 = ax.bar(x - width, one_m_vals, width, label=\"data_noise_sigma=1m\", color='red')\n",
    "    bars2 = ax.bar(x, five_m_vals, width, label=\"data_noise_sigma=5m\", color='green')\n",
    "    bars3 = ax.bar(x + width, ten_m_vals, width, label=\"data_noise_sigma=10 m\", color='blue')\n",
    "    \n",
    "    if uncer:\n",
    "        ax.set_xlabel('Models', fontsize=14)\n",
    "        ax.set_ylabel('Variance [m^2]', fontsize=14)\n",
    "        ax.set_title('Average State Estimate Uncertainty Across Different Models', fontsize=16)\n",
    "    else:\n",
    "        ax.set_xlabel('Models', fontsize=14)\n",
    "        ax.set_ylabel('Error [m]', fontsize=14)\n",
    "        ax.set_title('Average State Estimate Error Across Different Models', fontsize=16)\n",
    "        \n",
    "    ax.set_xticks(x)\n",
    "    labels_edit = ['EKF', 'BNN', 'EKPIBNNF']\n",
    "    ax.set_xticklabels(labels_edit)\n",
    "    ax.legend()\n",
    "    plt.show()\n",
    "    return None"
   ],
   "metadata": {
    "collapsed": false,
    "ExecuteTime": {
     "start_time": "2025-01-26T17:17:13.313986Z"
    }
   },
   "id": "b1bd26ed630e3670",
   "execution_count": null
  },
  {
   "cell_type": "code",
   "outputs": [],
   "source": [
    "produce_bar_graph_comp(uncer=False)"
   ],
   "metadata": {
    "collapsed": false,
    "ExecuteTime": {
     "start_time": "2025-01-26T17:17:13.313986Z"
    }
   },
   "id": "24307d535df0b6af",
   "execution_count": null
  },
  {
   "cell_type": "code",
   "outputs": [],
   "source": [
    "produce_bar_graph_comp(uncer=True)"
   ],
   "metadata": {
    "collapsed": false
   },
   "id": "1737e6b75ccf5748",
   "execution_count": null
  },
  {
   "cell_type": "code",
   "outputs": [],
   "source": [],
   "metadata": {
    "collapsed": false,
    "ExecuteTime": {
     "start_time": "2025-01-26T17:17:13.315987Z"
    }
   },
   "id": "da047ce1fada65d9"
  }
 ],
 "metadata": {
  "kernelspec": {
   "display_name": "Python 3",
   "language": "python",
   "name": "python3"
  },
  "language_info": {
   "codemirror_mode": {
    "name": "ipython",
    "version": 2
   },
   "file_extension": ".py",
   "mimetype": "text/x-python",
   "name": "python",
   "nbconvert_exporter": "python",
   "pygments_lexer": "ipython2",
   "version": "2.7.6"
  }
 },
 "nbformat": 4,
 "nbformat_minor": 5
}
