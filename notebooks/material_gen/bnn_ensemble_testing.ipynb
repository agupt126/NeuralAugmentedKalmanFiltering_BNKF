{
 "cells": [
  {
   "cell_type": "code",
   "execution_count": 1,
   "id": "initial_id",
   "metadata": {
    "collapsed": true,
    "ExecuteTime": {
     "end_time": "2025-06-30T01:13:36.455331Z",
     "start_time": "2025-06-30T01:13:29.536387Z"
    }
   },
   "outputs": [],
   "source": [
    "from helper.trajectory import Trajectory\n",
    "from models.stonesoup_radar_sim import StonesoupRadarSim\n",
    "import matplotlib.pyplot as plt\n",
    "\n",
    "import numpy as np\n",
    "import pickle\n",
    "import os\n",
    "import torch\n",
    "from models.bnn_ensemble import BNNEnsemble\n",
    "from models.bnn_ensemble import KalmanFilterUpdater\n",
    "from helper.evaluator import Evaluator"
   ]
  },
  {
   "cell_type": "markdown",
   "source": [
    "## Training/Eval Data Import"
   ],
   "metadata": {
    "collapsed": false
   },
   "id": "fe85de01a8d9a89c"
  },
  {
   "cell_type": "code",
   "outputs": [],
   "source": [
    "X_columns = [\"measured_x\", \"measured_y\", \"measured_z\", \"measured_vx\", \"measured_vy\", \"measured_vz\",\n",
    "             \"measured_plus_x\", \"measured_plus_y\", \"measured_plus_z\", \"measured_plus_vx\", \"measured_plus_vy\", \"measured_plus_vz\", \"sigma_range\", \"sigma_range_rate\", \"sigma_elevation\", \"sigma_bearing\", \"delta_time\"]\n",
    "\n",
    "y_columns = [\"truth_x\", \"truth_y\", \"truth_z\", \"truth_vx\", \"truth_vy\", \"truth_vz\"]\n",
    "\n",
    "sensor_noise_levels = ['low', 'mid', 'high']\n",
    "single_noise_level = sensor_noise_levels[2]\n",
    "num_model_epochs = 1000\n",
    "num_hidden_nodes = 16"
   ],
   "metadata": {
    "collapsed": false,
    "ExecuteTime": {
     "end_time": "2025-06-30T01:13:36.460697Z",
     "start_time": "2025-06-30T01:13:36.456339Z"
    }
   },
   "id": "60078346241bc031",
   "execution_count": 2
  },
  {
   "cell_type": "code",
   "outputs": [],
   "source": [
    "aug_path_in = f\"../../dataset/dataframe-readins/cv/augmented/full_traj_data_proc_noise_{single_noise_level}.pkl\"\n",
    "\n",
    "if os.path.exists(aug_path_in):\n",
    "    with open(aug_path_in, \"rb\") as e:\n",
    "        aug_proc_traj_data = pickle.load(e)"
   ],
   "metadata": {
    "collapsed": false,
    "ExecuteTime": {
     "end_time": "2025-06-30T01:13:38.803843Z",
     "start_time": "2025-06-30T01:13:36.460697Z"
    }
   },
   "id": "c6d9497a071fee75",
   "execution_count": 3
  },
  {
   "cell_type": "code",
   "outputs": [],
   "source": [
    "def return_index_cv_params(full_proc_traj_data_in):\n",
    "    train_X_mats = []\n",
    "    train_y_vecs = []\n",
    "    test_X_mats = []\n",
    "    test_y_vecs = []\n",
    "    \n",
    "    physics_metadata_train_dicts = []\n",
    "    physics_metadata_test_dicts = []\n",
    "    \n",
    "    data_len = len(full_proc_traj_data_in)\n",
    "    split_idx = int(0.8 * data_len)\n",
    "    first_80_indices = np.arange(0, split_idx)\n",
    "    last_20_indices = np.arange(split_idx, data_len)\n",
    "\n",
    "    cv_indices = [(first_80_indices, last_20_indices)]\n",
    "    for index in cv_indices:\n",
    "    \n",
    "        train_pmd_dict = {\n",
    "            'inputPos': torch.cat([full_proc_traj_data_in[key]['physics_meta_data']['inputPos'] for key in index[0]], dim=0),\n",
    "            'inputVel': torch.cat([full_proc_traj_data_in[key]['physics_meta_data']['inputVel'] for key in index[0]], dim=0),\n",
    "            'inputObs': torch.cat([full_proc_traj_data_in[key]['physics_meta_data']['inputObs'] for key in index[0]], dim=0),\n",
    "            'inputRngErr': torch.cat([full_proc_traj_data_in[key]['physics_meta_data']['inputRngErr'] for key in index[0]], dim=0),\n",
    "            'dtVec': torch.cat([full_proc_traj_data_in[key]['physics_meta_data']['dtVec'] for key in index[0]], dim=0)}\n",
    "        \n",
    "        train_X_mats.append(torch.cat([full_proc_traj_data_in[key]['X_mat'] for key in index[0]], dim=0))\n",
    "        train_y_vecs.append(torch.cat([full_proc_traj_data_in[key]['y_vec'] for key in index[0]], dim=0))\n",
    "        physics_metadata_train_dicts.append(train_pmd_dict)\n",
    "        \n",
    "        test_pmd_dict = {\n",
    "            'inputPos': torch.cat([full_proc_traj_data_in[key]['physics_meta_data']['inputPos'] for key in index[1]], dim=0),\n",
    "            'inputVel': torch.cat([full_proc_traj_data_in[key]['physics_meta_data']['inputVel'] for key in index[1]], dim=0),\n",
    "            'inputObs': torch.cat([full_proc_traj_data_in[key]['physics_meta_data']['inputObs'] for key in index[1]], dim=0),\n",
    "            'inputRngErr': torch.cat([full_proc_traj_data_in[key]['physics_meta_data']['inputRngErr'] for key in index[1]], dim=0),\n",
    "            'dtVec': torch.cat([full_proc_traj_data_in[key]['physics_meta_data']['dtVec'] for key in index[1]], dim=0)}\n",
    "        \n",
    "        test_X_mats.append(torch.cat([full_proc_traj_data_in[key]['X_mat'] for key in index[1]], dim=0))\n",
    "        test_y_vecs.append(torch.cat([full_proc_traj_data_in[key]['y_vec'] for key in index[1]], dim=0))\n",
    "        physics_metadata_test_dicts.append(test_pmd_dict)\n",
    "        \n",
    "    return train_X_mats, train_y_vecs, test_X_mats, test_y_vecs, physics_metadata_train_dicts, physics_metadata_test_dicts"
   ],
   "metadata": {
    "collapsed": false,
    "ExecuteTime": {
     "end_time": "2025-06-30T01:13:38.815868Z",
     "start_time": "2025-06-30T01:13:38.805857Z"
    }
   },
   "id": "569916072801bec4",
   "execution_count": 4
  },
  {
   "cell_type": "code",
   "outputs": [],
   "source": [
    "def train_bnne_model(a_bnne_model, X_mat_in, y_vec_in, load_weight_path=None, noise_level='low', file_prefix_in=\"ENSEMBLE\"):\n",
    "    trained_model = a_bnne_model\n",
    "    if type(load_weight_path) == 'str':\n",
    "        trained_model.load_model_weights(load_weight_path)\n",
    "    else:\n",
    "        trained_model.fit(X_mat_in, y_vec_in)\n",
    "        print(f\"FINAL LOSS: {trained_model.loss_values[-1]}\")\n",
    "        trained_model.save_model_weights(file_prefix=file_prefix_in, directory=f'saved_models/ensemble_bnn/{noise_level}')\n",
    "    return trained_model"
   ],
   "metadata": {
    "collapsed": false,
    "ExecuteTime": {
     "end_time": "2025-06-30T01:13:38.835062Z",
     "start_time": "2025-06-30T01:13:38.818880Z"
    }
   },
   "id": "6cf9a9978eaf5378",
   "execution_count": 5
  },
  {
   "cell_type": "code",
   "outputs": [],
   "source": [
    "def evaluate_model_outputs(y_pred_state, y_pred_covs, y_truth_state):\n",
    "    TestEval = Evaluator()\n",
    "        \n",
    "    full_pred_pos = y_pred_state[:, 0:3]\n",
    "    full_truth_pos = y_truth_state[:, 0:3].cpu().numpy()\n",
    "    \n",
    "    proc_covariances = []    \n",
    "    for idx, cov_vec in enumerate(y_pred_covs):\n",
    "        proc_covariances.append(y_pred_covs[idx, 0:3, 0:3])\n",
    "        \n",
    "    avg_err = TestEval.calculate_3d_avg_euclid_error(full_truth_pos[:, 0], full_truth_pos[:, 1], full_truth_pos[:, 2], full_pred_pos[:, 0], full_pred_pos[:, 1], full_pred_pos[:, 2])\n",
    "\n",
    "    avg_md = TestEval.average_mahalanobis_distance(full_pred_pos, proc_covariances, full_truth_pos)\n",
    "        \n",
    "    avg_det = TestEval.compute_average_determinant(proc_covariances)\n",
    "    \n",
    "    avg_trace = TestEval.compute_average_covariance_trace(proc_covariances)\n",
    "    \n",
    "    return avg_err, avg_md, avg_trace, avg_det"
   ],
   "metadata": {
    "collapsed": false,
    "ExecuteTime": {
     "end_time": "2025-06-30T01:13:38.850523Z",
     "start_time": "2025-06-30T01:13:38.837068Z"
    }
   },
   "id": "1fea69ed05689218",
   "execution_count": 6
  },
  {
   "cell_type": "markdown",
   "source": [
    "## BNN Training"
   ],
   "metadata": {
    "collapsed": false
   },
   "id": "370c811ba0ce1860"
  },
  {
   "cell_type": "code",
   "outputs": [],
   "source": [
    "# initialize models\n",
    "bnne_model_X = BNNEnsemble(input_size=len(X_columns), output_size=1, hidden_layer_size=num_hidden_nodes,\n",
    "                 prior_sigma_lay=0.01, epochs=num_model_epochs, bias_in=True)\n",
    "\n",
    "bnne_model_Y = BNNEnsemble(input_size=len(X_columns), output_size=1, hidden_layer_size=num_hidden_nodes,\n",
    "                 prior_sigma_lay=0.01, epochs=num_model_epochs, bias_in=True)\n",
    "\n",
    "bnne_model_Z = BNNEnsemble(input_size=len(X_columns), output_size=1, hidden_layer_size=num_hidden_nodes,\n",
    "                 prior_sigma_lay=0.01, epochs=num_model_epochs, bias_in=True)\n",
    "\n",
    "bnne_model_VX = BNNEnsemble(input_size=len(X_columns), output_size=1, hidden_layer_size=num_hidden_nodes,\n",
    "                 prior_sigma_lay=0.01, epochs=num_model_epochs, bias_in=True)\n",
    "\n",
    "bnne_model_VY = BNNEnsemble(input_size=len(X_columns), output_size=1, hidden_layer_size=num_hidden_nodes,\n",
    "                 prior_sigma_lay=0.01, epochs=num_model_epochs, bias_in=True)\n",
    "\n",
    "bnne_model_VZ = BNNEnsemble(input_size=len(X_columns), output_size=1, hidden_layer_size=num_hidden_nodes,\n",
    "                 prior_sigma_lay=0.01, epochs=num_model_epochs, bias_in=True)"
   ],
   "metadata": {
    "collapsed": false,
    "ExecuteTime": {
     "end_time": "2025-06-30T01:13:40.283376Z",
     "start_time": "2025-06-30T01:13:38.851535Z"
    }
   },
   "id": "f5171cac1cb5183f",
   "execution_count": 7
  },
  {
   "cell_type": "code",
   "outputs": [],
   "source": [
    "# pull training values\n",
    "o_train_X_mats, o_train_y_vecs, o_test_X_mats, o_test_y_vecs, o_physics_metadata_train_dicts, o_physics_metadata_test_dicts= return_index_cv_params(aug_proc_traj_data)\n",
    "\n",
    "\n",
    "X_mat_train = o_train_X_mats[0]\n",
    "y_vec_train = o_train_y_vecs[0]\n",
    "X_mat_test = o_test_X_mats[0]\n",
    "y_vec_test = o_test_y_vecs[0]"
   ],
   "metadata": {
    "collapsed": false,
    "ExecuteTime": {
     "end_time": "2025-06-30T01:13:40.508627Z",
     "start_time": "2025-06-30T01:13:40.284392Z"
    }
   },
   "id": "81c02c76fc28e6d9",
   "execution_count": 8
  },
  {
   "cell_type": "markdown",
   "source": [
    "### Training Models"
   ],
   "metadata": {
    "collapsed": false
   },
   "id": "acb00911988c7fec"
  },
  {
   "cell_type": "code",
   "outputs": [
    {
     "name": "stdout",
     "output_type": "stream",
     "text": [
      "TRAINING X PREDICTOR...\n"
     ]
    },
    {
     "name": "stderr",
     "output_type": "stream",
     "text": [
      " Epoch: 1000/1000 | Loss:  61.71 "
     ]
    },
    {
     "name": "stdout",
     "output_type": "stream",
     "text": [
      "FINAL LOSS: 61.71078872680664\n",
      "Model weights saved to saved_models/ensemble_bnn/high\\ENSEMBLE_X_bnn_model_2025-06-29_21-20-28.pth\n",
      "TRAINING Y PREDICTOR...\n"
     ]
    },
    {
     "name": "stderr",
     "output_type": "stream",
     "text": [
      " Epoch: 1000/1000 | Loss:  61.34 "
     ]
    },
    {
     "name": "stdout",
     "output_type": "stream",
     "text": [
      "FINAL LOSS: 61.33757400512695\n",
      "Model weights saved to saved_models/ensemble_bnn/high\\ENSEMBLE_Y_bnn_model_2025-06-29_21-27-27.pth\n",
      "TRAINING Z PREDICTOR...\n"
     ]
    },
    {
     "name": "stderr",
     "output_type": "stream",
     "text": [
      " Epoch: 1000/1000 | Loss:  13.82 "
     ]
    },
    {
     "name": "stdout",
     "output_type": "stream",
     "text": [
      "FINAL LOSS: 13.815237045288086\n",
      "Model weights saved to saved_models/ensemble_bnn/high\\ENSEMBLE_Z_bnn_model_2025-06-29_21-34-22.pth\n",
      "TRAINING VX PREDICTOR...\n"
     ]
    },
    {
     "name": "stderr",
     "output_type": "stream",
     "text": [
      " Epoch: 1000/1000 | Loss:   2.19 "
     ]
    },
    {
     "name": "stdout",
     "output_type": "stream",
     "text": [
      "FINAL LOSS: 2.188448905944824\n",
      "Model weights saved to saved_models/ensemble_bnn/high\\ENSEMBLE_VX_bnn_model_2025-06-29_21-41-20.pth\n",
      "TRAINING VY PREDICTOR...\n"
     ]
    },
    {
     "name": "stderr",
     "output_type": "stream",
     "text": [
      " Epoch: 1000/1000 | Loss:   2.00 "
     ]
    },
    {
     "name": "stdout",
     "output_type": "stream",
     "text": [
      "FINAL LOSS: 2.0013294219970703\n",
      "Model weights saved to saved_models/ensemble_bnn/high\\ENSEMBLE_VY_bnn_model_2025-06-29_21-47-58.pth\n",
      "TRAINING VZ PREDICTOR...\n"
     ]
    },
    {
     "name": "stderr",
     "output_type": "stream",
     "text": [
      " Epoch: 1000/1000 | Loss:   0.56 "
     ]
    },
    {
     "name": "stdout",
     "output_type": "stream",
     "text": [
      "FINAL LOSS: 0.5614057183265686\n",
      "Model weights saved to saved_models/ensemble_bnn/high\\ENSEMBLE_VZ_bnn_model_2025-06-29_21-54-30.pth\n",
      "DONE TRAINING!\n",
      "CPU times: total: 3h 22min 41s\n",
      "Wall time: 40min 50s\n"
     ]
    }
   ],
   "source": [
    "%%time\n",
    "print(\"TRAINING X PREDICTOR...\")\n",
    "trained_X_model = train_bnne_model(bnne_model_X, X_mat_train, y_vec_train[:, 0:1], load_weight_path=None, noise_level=single_noise_level, file_prefix_in=\"ENSEMBLE_X\")\n",
    "\n",
    "print(\"TRAINING Y PREDICTOR...\")\n",
    "trained_Y_model = train_bnne_model(bnne_model_Y, X_mat_train, y_vec_train[:, 1:2], load_weight_path=None, noise_level=single_noise_level, file_prefix_in=\"ENSEMBLE_Y\")\n",
    "\n",
    "print(\"TRAINING Z PREDICTOR...\")\n",
    "trained_Z_model = train_bnne_model(bnne_model_Z, X_mat_train, y_vec_train[:, 2:3], load_weight_path=None, noise_level=single_noise_level, file_prefix_in=\"ENSEMBLE_Z\")\n",
    "\n",
    "print(\"TRAINING VX PREDICTOR...\")\n",
    "trained_VX_model = train_bnne_model(bnne_model_VX, X_mat_train, y_vec_train[:, 3:4], load_weight_path=None, noise_level=single_noise_level, file_prefix_in=\"ENSEMBLE_VX\")\n",
    "\n",
    "print(\"TRAINING VY PREDICTOR...\")\n",
    "trained_VY_model = train_bnne_model(bnne_model_VY, X_mat_train, y_vec_train[:, 4:5], load_weight_path=None, noise_level=single_noise_level, file_prefix_in=\"ENSEMBLE_VY\")\n",
    "\n",
    "print(\"TRAINING VZ PREDICTOR...\")\n",
    "trained_VZ_model = train_bnne_model(bnne_model_VZ, X_mat_train, y_vec_train[:, 5:6], load_weight_path=None, noise_level=single_noise_level, file_prefix_in=\"ENSEMBLE_VZ\")\n",
    "\n",
    "print(\"DONE TRAINING!\")"
   ],
   "metadata": {
    "collapsed": false,
    "ExecuteTime": {
     "end_time": "2025-06-30T01:54:30.746855Z",
     "start_time": "2025-06-30T01:13:40.509643Z"
    }
   },
   "id": "403bae77f5578aa3",
   "execution_count": 9
  },
  {
   "cell_type": "markdown",
   "source": [
    "### Compiling Predictions"
   ],
   "metadata": {
    "collapsed": false
   },
   "id": "62d797838172941d"
  },
  {
   "cell_type": "code",
   "outputs": [
    {
     "name": "stdout",
     "output_type": "stream",
     "text": [
      "CPU times: total: 1min 16s\n",
      "Wall time: 16.3 s\n"
     ]
    }
   ],
   "source": [
    "%%time\n",
    "X_test_pred = trained_X_model.predict(X_mat_test)\n",
    "Y_test_pred = trained_Y_model.predict(X_mat_test)\n",
    "Z_test_pred = trained_Z_model.predict(X_mat_test)\n",
    "VX_test_pred = trained_VX_model.predict(X_mat_test)\n",
    "VY_test_pred = trained_VY_model.predict(X_mat_test)\n",
    "VZ_test_pred = trained_VZ_model.predict(X_mat_test)"
   ],
   "metadata": {
    "collapsed": false,
    "ExecuteTime": {
     "end_time": "2025-06-30T01:54:47.076014Z",
     "start_time": "2025-06-30T01:54:30.747859Z"
    }
   },
   "id": "19dc34f0ed18bf21",
   "execution_count": 10
  },
  {
   "cell_type": "code",
   "outputs": [
    {
     "name": "stdout",
     "output_type": "stream",
     "text": [
      "tensor([-1.3714e+01,  3.2926e+01,  1.6257e+01, -2.4206e+00,  2.4229e+00,\n",
      "        -4.1678e-03])\n",
      "tensor([-17.0465])\n",
      "tensor([26.0302])\n",
      "tensor([9.3151])\n",
      "tensor([-0.4872])\n"
     ]
    }
   ],
   "source": [
    "print(y_vec_test[0])\n",
    "print(X_test_pred[0, 0 , :])\n",
    "print(Y_test_pred[0, 0 , :])\n",
    "print(Z_test_pred[0, 0 , :])\n",
    "print(VX_test_pred[0, 0 , :])"
   ],
   "metadata": {
    "collapsed": false,
    "ExecuteTime": {
     "end_time": "2025-06-30T01:54:47.108792Z",
     "start_time": "2025-06-30T01:54:47.077020Z"
    }
   },
   "id": "ce53113c5777d3eb",
   "execution_count": 11
  },
  {
   "cell_type": "code",
   "outputs": [
    {
     "name": "stdout",
     "output_type": "stream",
     "text": [
      "torch.Size([100, 320599, 1])\n",
      "torch.Size([100, 320599, 1])\n",
      "torch.Size([100, 320599, 1])\n",
      "torch.Size([100, 320599, 1])\n",
      "torch.Size([100, 320599, 1])\n",
      "torch.Size([100, 320599, 1])\n"
     ]
    }
   ],
   "source": [
    "print(X_test_pred.shape)\n",
    "print(Y_test_pred.shape)\n",
    "print(Z_test_pred.shape)\n",
    "print(VX_test_pred.shape)\n",
    "print(VY_test_pred.shape)\n",
    "print(VZ_test_pred.shape)"
   ],
   "metadata": {
    "collapsed": false,
    "ExecuteTime": {
     "end_time": "2025-06-30T01:54:47.113416Z",
     "start_time": "2025-06-30T01:54:47.109800Z"
    }
   },
   "id": "57ba00e0ba8765ae",
   "execution_count": 12
  },
  {
   "cell_type": "code",
   "outputs": [
    {
     "name": "stdout",
     "output_type": "stream",
     "text": [
      "torch.Size([100, 320599, 6])\n"
     ]
    }
   ],
   "source": [
    "full_prediction = torch.cat((X_test_pred, Y_test_pred, Z_test_pred, VX_test_pred, VY_test_pred, VZ_test_pred), dim=2)\n",
    "print(full_prediction.shape)"
   ],
   "metadata": {
    "collapsed": false,
    "ExecuteTime": {
     "end_time": "2025-06-30T01:54:47.917536Z",
     "start_time": "2025-06-30T01:54:47.114423Z"
    }
   },
   "id": "19585d5bad6651f3",
   "execution_count": 13
  },
  {
   "cell_type": "markdown",
   "source": [
    "### Passing to Kalman Filter"
   ],
   "metadata": {
    "collapsed": false
   },
   "id": "3a238158e1c6fcb3"
  },
  {
   "cell_type": "code",
   "outputs": [],
   "source": [
    "# conversion\n",
    "state_est_mu = full_prediction.mean(dim=0)\n",
    "x_centered = full_prediction - state_est_mu\n",
    "state_est_p = torch.einsum('nvc,nvd->vcd', x_centered, x_centered) / (full_prediction.shape[0] - 1)\n",
    "z_obs, sig_obs = o_physics_metadata_test_dicts[0]['inputObs'], o_physics_metadata_test_dicts[0]['inputRngErr']"
   ],
   "metadata": {
    "collapsed": false,
    "ExecuteTime": {
     "end_time": "2025-06-30T01:54:48.448808Z",
     "start_time": "2025-06-30T01:54:47.920542Z"
    }
   },
   "id": "c2686d8176a999b7",
   "execution_count": 14
  },
  {
   "cell_type": "code",
   "outputs": [],
   "source": [
    "kf = KalmanFilterUpdater()\n",
    "predicted_state, predicted_cov = kf.apply_update(state_est_mu, state_est_p, z_obs, sig_obs)"
   ],
   "metadata": {
    "collapsed": false,
    "ExecuteTime": {
     "end_time": "2025-06-30T01:54:52.462647Z",
     "start_time": "2025-06-30T01:54:48.450814Z"
    }
   },
   "id": "e3093e2f092b8942",
   "execution_count": 15
  },
  {
   "cell_type": "code",
   "outputs": [
    {
     "name": "stdout",
     "output_type": "stream",
     "text": [
      "(320599, 6)\n",
      "(320599, 6, 6)\n"
     ]
    }
   ],
   "source": [
    "print(predicted_state.shape)\n",
    "print(predicted_cov.shape)"
   ],
   "metadata": {
    "collapsed": false,
    "ExecuteTime": {
     "end_time": "2025-06-30T01:54:52.468186Z",
     "start_time": "2025-06-30T01:54:52.463665Z"
    }
   },
   "id": "d63e91f3d4b3540a",
   "execution_count": 16
  },
  {
   "cell_type": "markdown",
   "source": [
    "### Running Evaluation"
   ],
   "metadata": {
    "collapsed": false
   },
   "id": "487be9d1013ce5ba"
  },
  {
   "cell_type": "code",
   "outputs": [
    {
     "name": "stdout",
     "output_type": "stream",
     "text": [
      "CPU times: total: 3.69 s\n",
      "Wall time: 5.58 s\n"
     ]
    }
   ],
   "source": [
    "%%time\n",
    "avg_err, avg_md, avg_trace, avg_det = evaluate_model_outputs(predicted_state, predicted_cov, y_vec_test)"
   ],
   "metadata": {
    "collapsed": false,
    "ExecuteTime": {
     "end_time": "2025-06-30T01:54:58.072206Z",
     "start_time": "2025-06-30T01:54:52.469195Z"
    }
   },
   "id": "4d956b1d80bd4270",
   "execution_count": 17
  },
  {
   "cell_type": "code",
   "outputs": [
    {
     "name": "stdout",
     "output_type": "stream",
     "text": [
      "9.72220614745404\n",
      "7.113643883530058\n",
      "8.241280088759089\n",
      "8.802782228470575\n"
     ]
    }
   ],
   "source": [
    "print(avg_err)\n",
    "print(avg_md)\n",
    "print(avg_trace)\n",
    "print(avg_det)"
   ],
   "metadata": {
    "collapsed": false,
    "ExecuteTime": {
     "end_time": "2025-06-30T01:54:58.078818Z",
     "start_time": "2025-06-30T01:54:58.073211Z"
    }
   },
   "id": "390543b19e2b302a",
   "execution_count": 18
  },
  {
   "cell_type": "code",
   "outputs": [],
   "source": [],
   "metadata": {
    "collapsed": false,
    "ExecuteTime": {
     "end_time": "2025-06-30T01:54:58.081979Z",
     "start_time": "2025-06-30T01:54:58.079825Z"
    }
   },
   "id": "dc9838e7115a3d2c",
   "execution_count": 18
  }
 ],
 "metadata": {
  "kernelspec": {
   "display_name": "Python 3",
   "language": "python",
   "name": "python3"
  },
  "language_info": {
   "codemirror_mode": {
    "name": "ipython",
    "version": 2
   },
   "file_extension": ".py",
   "mimetype": "text/x-python",
   "name": "python",
   "nbconvert_exporter": "python",
   "pygments_lexer": "ipython2",
   "version": "2.7.6"
  }
 },
 "nbformat": 4,
 "nbformat_minor": 5
}
