{
 "cells": [
  {
   "cell_type": "code",
   "outputs": [],
   "source": [
    "# necessary imports\n",
    "import helper.training_preprocess as tp\n",
    "import helper.eval_worker as ew\n",
    "from models.bnn import BNN\n",
    "import numpy as np\n",
    "import torch"
   ],
   "metadata": {
    "collapsed": false,
    "ExecuteTime": {
     "end_time": "2024-12-18T00:43:10.601996Z",
     "start_time": "2024-12-18T00:43:10.597934Z"
    }
   },
   "id": "5aa56d7a08e08b8e",
   "execution_count": 40
  },
  {
   "cell_type": "code",
   "outputs": [],
   "source": [
    "bnn_presaved = True\n",
    "model_filename = '10k_0.2TRAJ_5MNOISE_64H_bnn_model_2024-12-17_20-59-18.pth'\n",
    "model_fileprefix = \"10k_0.2TRAJ_5MNOISE_64H\"\n",
    "train_sensor_measurement_uncertainty = 5\n",
    "train_epochs = 10000\n",
    "training_traj_percent = 0.2"
   ],
   "metadata": {
    "collapsed": false,
    "ExecuteTime": {
     "end_time": "2024-12-18T00:43:10.614562Z",
     "start_time": "2024-12-18T00:43:10.611020Z"
    }
   },
   "id": "e545efa2f65e15aa",
   "execution_count": 41
  },
  {
   "cell_type": "code",
   "outputs": [],
   "source": [
    "columns_of_interest_dict = tp.export_preproc_var_columns()\n",
    "x_columns_of_interest = columns_of_interest_dict['x_columns_of_interest']\n",
    "y_columns_of_interest = columns_of_interest_dict['y_columns_of_interest']\n",
    "z_obs_columns = columns_of_interest_dict['z_obs_columns']"
   ],
   "metadata": {
    "collapsed": false,
    "ExecuteTime": {
     "end_time": "2024-12-18T00:43:10.648592Z",
     "start_time": "2024-12-18T00:43:10.644577Z"
    }
   },
   "id": "702f058f6275ee10",
   "execution_count": 42
  },
  {
   "cell_type": "code",
   "outputs": [
    {
     "name": "stdout",
     "output_type": "stream",
     "text": [
      "Number of Train Trajectories: 1019\n",
      "Number of Test Trajectories: 4074\n"
     ]
    }
   ],
   "source": [
    "train_df, test_df_holdout, train_traj_data, test_traj_data_holdout = tp.readin_dataframes(train_split=training_traj_percent, sensor_pos_uncer=train_sensor_measurement_uncertainty)"
   ],
   "metadata": {
    "collapsed": false,
    "ExecuteTime": {
     "end_time": "2024-12-18T00:46:02.771165Z",
     "start_time": "2024-12-18T00:43:10.664739Z"
    }
   },
   "id": "31bb8ce8792813ee",
   "execution_count": 44
  },
  {
   "cell_type": "code",
   "outputs": [
    {
     "data": {
      "text/plain": "        timestamp         tx         ty         tz        vx        vy  \\\n0        0.000000 -20.110498   2.792424  17.071516  0.827515 -0.114170   \n1        0.100000 -20.027747   2.781007  17.104970  0.687851 -0.017778   \n2        0.200000 -19.958962   2.779229  17.148497  0.606798  0.254735   \n3        0.300000 -19.898282   2.804703  17.221119  0.404264  0.639850   \n4        0.400000 -19.857856   2.868688  17.274563  0.153350  1.112576   \n...           ...        ...        ...        ...       ...       ...   \n175297  23.499977   4.453098  13.423450  12.530015  3.241870 -2.221316   \n175298  23.599977   4.777287  13.201317  12.520938  3.255944 -2.093330   \n175299  23.699978   5.102882  12.991984  12.515526  3.767415 -2.309667   \n175300  23.799976   5.479618  12.761021  12.509652  3.653508 -2.127211   \n175301  23.899977   5.844970  12.548299  12.501963  0.000000  0.000000   \n\n              vz  tx_measured  ty_measured  tz_measured  vx_measured  \\\n0       0.334543   -16.953761     1.098420    12.645976     0.827359   \n1       0.435271   -20.070249     2.394119    17.583043     0.688836   \n2       0.726220   -22.634136     4.729901    18.389995     0.614248   \n3       0.534433   -16.678309     6.858629    23.449610     0.412101   \n4       0.332398   -23.006299    -0.133315    19.073258     0.149637   \n...          ...          ...          ...          ...          ...   \n175297 -0.090775     0.349364    10.269410     7.142029     3.230903   \n175298 -0.054121     8.006741    11.129182    20.799965     3.263643   \n175299 -0.058740    -2.014717    15.462915     8.815019     3.768100   \n175300 -0.076890    13.570141    21.246395    13.210309     3.651861   \n175301  0.000000     2.835120     9.855676    20.313954    -0.005266   \n\n        vy_measured  vz_measured  sigma_pos  sigma_vel  tx_measured_plus  \\\n0         -0.105106     0.329130          5      0.005        -20.070249   \n1         -0.024749     0.432235          5      0.005        -22.634136   \n2          0.258953     0.730604          5      0.005        -16.678309   \n3          0.638872     0.530521          5      0.005        -23.006299   \n4          1.101241     0.335262          5      0.005         -7.807810   \n...             ...          ...        ...        ...               ...   \n175297    -2.214941    -0.095745          5      0.005          8.006741   \n175298    -2.102999    -0.056203          5      0.005         -2.014717   \n175299    -2.311000    -0.069342          5      0.005         13.570141   \n175300    -2.126293    -0.086863          5      0.005          2.835120   \n175301     0.006931    -0.004593          5      0.005          0.000000   \n\n        ty_measured_plus  tz_measured_plus  delta_time  \n0               2.394119         17.583043    0.100000  \n1               4.729901         18.389995    0.100000  \n2               6.858629         23.449610    0.100000  \n3              -0.133315         19.073258    0.100000  \n4               0.282695         14.529721    0.100000  \n...                  ...               ...         ...  \n175297         11.129182         20.799965    0.100000  \n175298         15.462915          8.815019    0.100000  \n175299         21.246395         13.210309    0.099998  \n175300          9.855676         20.313954    0.100000  \n175301          0.000000          0.000000    0.000000  \n\n[175302 rows x 19 columns]",
      "text/html": "<div>\n<style scoped>\n    .dataframe tbody tr th:only-of-type {\n        vertical-align: middle;\n    }\n\n    .dataframe tbody tr th {\n        vertical-align: top;\n    }\n\n    .dataframe thead th {\n        text-align: right;\n    }\n</style>\n<table border=\"1\" class=\"dataframe\">\n  <thead>\n    <tr style=\"text-align: right;\">\n      <th></th>\n      <th>timestamp</th>\n      <th>tx</th>\n      <th>ty</th>\n      <th>tz</th>\n      <th>vx</th>\n      <th>vy</th>\n      <th>vz</th>\n      <th>tx_measured</th>\n      <th>ty_measured</th>\n      <th>tz_measured</th>\n      <th>vx_measured</th>\n      <th>vy_measured</th>\n      <th>vz_measured</th>\n      <th>sigma_pos</th>\n      <th>sigma_vel</th>\n      <th>tx_measured_plus</th>\n      <th>ty_measured_plus</th>\n      <th>tz_measured_plus</th>\n      <th>delta_time</th>\n    </tr>\n  </thead>\n  <tbody>\n    <tr>\n      <th>0</th>\n      <td>0.000000</td>\n      <td>-20.110498</td>\n      <td>2.792424</td>\n      <td>17.071516</td>\n      <td>0.827515</td>\n      <td>-0.114170</td>\n      <td>0.334543</td>\n      <td>-16.953761</td>\n      <td>1.098420</td>\n      <td>12.645976</td>\n      <td>0.827359</td>\n      <td>-0.105106</td>\n      <td>0.329130</td>\n      <td>5</td>\n      <td>0.005</td>\n      <td>-20.070249</td>\n      <td>2.394119</td>\n      <td>17.583043</td>\n      <td>0.100000</td>\n    </tr>\n    <tr>\n      <th>1</th>\n      <td>0.100000</td>\n      <td>-20.027747</td>\n      <td>2.781007</td>\n      <td>17.104970</td>\n      <td>0.687851</td>\n      <td>-0.017778</td>\n      <td>0.435271</td>\n      <td>-20.070249</td>\n      <td>2.394119</td>\n      <td>17.583043</td>\n      <td>0.688836</td>\n      <td>-0.024749</td>\n      <td>0.432235</td>\n      <td>5</td>\n      <td>0.005</td>\n      <td>-22.634136</td>\n      <td>4.729901</td>\n      <td>18.389995</td>\n      <td>0.100000</td>\n    </tr>\n    <tr>\n      <th>2</th>\n      <td>0.200000</td>\n      <td>-19.958962</td>\n      <td>2.779229</td>\n      <td>17.148497</td>\n      <td>0.606798</td>\n      <td>0.254735</td>\n      <td>0.726220</td>\n      <td>-22.634136</td>\n      <td>4.729901</td>\n      <td>18.389995</td>\n      <td>0.614248</td>\n      <td>0.258953</td>\n      <td>0.730604</td>\n      <td>5</td>\n      <td>0.005</td>\n      <td>-16.678309</td>\n      <td>6.858629</td>\n      <td>23.449610</td>\n      <td>0.100000</td>\n    </tr>\n    <tr>\n      <th>3</th>\n      <td>0.300000</td>\n      <td>-19.898282</td>\n      <td>2.804703</td>\n      <td>17.221119</td>\n      <td>0.404264</td>\n      <td>0.639850</td>\n      <td>0.534433</td>\n      <td>-16.678309</td>\n      <td>6.858629</td>\n      <td>23.449610</td>\n      <td>0.412101</td>\n      <td>0.638872</td>\n      <td>0.530521</td>\n      <td>5</td>\n      <td>0.005</td>\n      <td>-23.006299</td>\n      <td>-0.133315</td>\n      <td>19.073258</td>\n      <td>0.100000</td>\n    </tr>\n    <tr>\n      <th>4</th>\n      <td>0.400000</td>\n      <td>-19.857856</td>\n      <td>2.868688</td>\n      <td>17.274563</td>\n      <td>0.153350</td>\n      <td>1.112576</td>\n      <td>0.332398</td>\n      <td>-23.006299</td>\n      <td>-0.133315</td>\n      <td>19.073258</td>\n      <td>0.149637</td>\n      <td>1.101241</td>\n      <td>0.335262</td>\n      <td>5</td>\n      <td>0.005</td>\n      <td>-7.807810</td>\n      <td>0.282695</td>\n      <td>14.529721</td>\n      <td>0.100000</td>\n    </tr>\n    <tr>\n      <th>...</th>\n      <td>...</td>\n      <td>...</td>\n      <td>...</td>\n      <td>...</td>\n      <td>...</td>\n      <td>...</td>\n      <td>...</td>\n      <td>...</td>\n      <td>...</td>\n      <td>...</td>\n      <td>...</td>\n      <td>...</td>\n      <td>...</td>\n      <td>...</td>\n      <td>...</td>\n      <td>...</td>\n      <td>...</td>\n      <td>...</td>\n      <td>...</td>\n    </tr>\n    <tr>\n      <th>175297</th>\n      <td>23.499977</td>\n      <td>4.453098</td>\n      <td>13.423450</td>\n      <td>12.530015</td>\n      <td>3.241870</td>\n      <td>-2.221316</td>\n      <td>-0.090775</td>\n      <td>0.349364</td>\n      <td>10.269410</td>\n      <td>7.142029</td>\n      <td>3.230903</td>\n      <td>-2.214941</td>\n      <td>-0.095745</td>\n      <td>5</td>\n      <td>0.005</td>\n      <td>8.006741</td>\n      <td>11.129182</td>\n      <td>20.799965</td>\n      <td>0.100000</td>\n    </tr>\n    <tr>\n      <th>175298</th>\n      <td>23.599977</td>\n      <td>4.777287</td>\n      <td>13.201317</td>\n      <td>12.520938</td>\n      <td>3.255944</td>\n      <td>-2.093330</td>\n      <td>-0.054121</td>\n      <td>8.006741</td>\n      <td>11.129182</td>\n      <td>20.799965</td>\n      <td>3.263643</td>\n      <td>-2.102999</td>\n      <td>-0.056203</td>\n      <td>5</td>\n      <td>0.005</td>\n      <td>-2.014717</td>\n      <td>15.462915</td>\n      <td>8.815019</td>\n      <td>0.100000</td>\n    </tr>\n    <tr>\n      <th>175299</th>\n      <td>23.699978</td>\n      <td>5.102882</td>\n      <td>12.991984</td>\n      <td>12.515526</td>\n      <td>3.767415</td>\n      <td>-2.309667</td>\n      <td>-0.058740</td>\n      <td>-2.014717</td>\n      <td>15.462915</td>\n      <td>8.815019</td>\n      <td>3.768100</td>\n      <td>-2.311000</td>\n      <td>-0.069342</td>\n      <td>5</td>\n      <td>0.005</td>\n      <td>13.570141</td>\n      <td>21.246395</td>\n      <td>13.210309</td>\n      <td>0.099998</td>\n    </tr>\n    <tr>\n      <th>175300</th>\n      <td>23.799976</td>\n      <td>5.479618</td>\n      <td>12.761021</td>\n      <td>12.509652</td>\n      <td>3.653508</td>\n      <td>-2.127211</td>\n      <td>-0.076890</td>\n      <td>13.570141</td>\n      <td>21.246395</td>\n      <td>13.210309</td>\n      <td>3.651861</td>\n      <td>-2.126293</td>\n      <td>-0.086863</td>\n      <td>5</td>\n      <td>0.005</td>\n      <td>2.835120</td>\n      <td>9.855676</td>\n      <td>20.313954</td>\n      <td>0.100000</td>\n    </tr>\n    <tr>\n      <th>175301</th>\n      <td>23.899977</td>\n      <td>5.844970</td>\n      <td>12.548299</td>\n      <td>12.501963</td>\n      <td>0.000000</td>\n      <td>0.000000</td>\n      <td>0.000000</td>\n      <td>2.835120</td>\n      <td>9.855676</td>\n      <td>20.313954</td>\n      <td>-0.005266</td>\n      <td>0.006931</td>\n      <td>-0.004593</td>\n      <td>5</td>\n      <td>0.005</td>\n      <td>0.000000</td>\n      <td>0.000000</td>\n      <td>0.000000</td>\n      <td>0.000000</td>\n    </tr>\n  </tbody>\n</table>\n<p>175302 rows × 19 columns</p>\n</div>"
     },
     "metadata": {},
     "output_type": "display_data"
    }
   ],
   "source": [
    "display(train_df)"
   ],
   "metadata": {
    "collapsed": false,
    "ExecuteTime": {
     "end_time": "2024-12-18T00:46:02.789515Z",
     "start_time": "2024-12-18T00:46:02.772170Z"
    }
   },
   "id": "5907ea0c02818edf",
   "execution_count": 45
  },
  {
   "cell_type": "code",
   "outputs": [
    {
     "data": {
      "text/plain": "        timestamp         tx         ty        tz        vx        vy  \\\n0        0.000000   8.275681  26.549759  7.497171 -0.442434  0.043865   \n1        0.100000   8.231438  26.554145  7.451809 -0.519214 -0.091192   \n2        0.200000   8.179517  26.545026  7.434656 -0.929391 -0.068917   \n3        0.300000   8.086578  26.538134  7.427664 -1.240382  0.011767   \n4        0.400000   7.962540  26.539311  7.416726 -1.633285  0.160277   \n...           ...        ...        ...       ...       ...       ...   \n590833  11.399989 -31.410724  -2.445097  5.099618 -2.817649 -2.408035   \n590834  11.499989 -31.692487  -2.685899  5.088108 -2.732949 -2.156075   \n590835  11.599989 -31.965783  -2.901507  5.081302 -3.040037 -2.226045   \n590836  11.699989 -32.269788  -3.124112  5.080849 -2.856681 -1.939021   \n590837  11.799989 -32.555454  -3.318013  5.084068  0.000000  0.000000   \n\n              vz  tx_measured  ty_measured  tz_measured  vx_measured  \\\n0      -0.453622    10.612595    28.166139     8.869257    -0.443209   \n1      -0.171525     7.433444    27.212712    -2.100882    -0.509393   \n2      -0.069919     0.982734    30.631518    16.090670    -0.925965   \n3      -0.109389     8.821192    24.487001    16.403022    -1.238966   \n4      -0.131733    13.479048    20.463086    -7.197470    -1.635773   \n...          ...          ...          ...          ...          ...   \n590833 -0.115101   -37.071656     1.070370     7.600478    -2.817802   \n590834 -0.068056   -27.843968    -3.568871     5.618723    -2.732276   \n590835 -0.004532   -29.424819    -5.194920    -1.054690    -3.036804   \n590836  0.032186   -33.388292    -5.694895    11.674932    -2.846047   \n590837  0.000000   -42.889903    -5.098226     4.624708     0.005168   \n\n        vy_measured  vz_measured  sigma_pos  sigma_vel  tx_measured_plus  \\\n0          0.038151    -0.456918          5      0.005          7.433444   \n1         -0.089081    -0.171874          5      0.005          0.982734   \n2         -0.065573    -0.073432          5      0.005          8.821192   \n3          0.009376    -0.104130          5      0.005         13.479048   \n4          0.173536    -0.131268          5      0.005          9.313731   \n...             ...          ...        ...        ...               ...   \n590833    -2.401167    -0.118081          5      0.005        -27.843968   \n590834    -2.152939    -0.073607          5      0.005        -29.424819   \n590835    -2.225039     0.006333          5      0.005        -33.388292   \n590836    -1.935923     0.041222          5      0.005        -42.889903   \n590837     0.007838     0.000119          5      0.005          0.000000   \n\n        ty_measured_plus  tz_measured_plus  delta_time  \n0              27.212712         -2.100882    0.100000  \n1              30.631518         16.090670    0.100000  \n2              24.487001         16.403022    0.100000  \n3              20.463086         -7.197470    0.100000  \n4              35.779936          8.527507    0.100000  \n...                  ...               ...         ...  \n590833         -3.568871          5.618723    0.099999  \n590834         -5.194920         -1.054690    0.100000  \n590835         -5.694895         11.674932    0.100000  \n590836         -5.098226          4.624708    0.099999  \n590837          0.000000          0.000000    0.000000  \n\n[590838 rows x 19 columns]",
      "text/html": "<div>\n<style scoped>\n    .dataframe tbody tr th:only-of-type {\n        vertical-align: middle;\n    }\n\n    .dataframe tbody tr th {\n        vertical-align: top;\n    }\n\n    .dataframe thead th {\n        text-align: right;\n    }\n</style>\n<table border=\"1\" class=\"dataframe\">\n  <thead>\n    <tr style=\"text-align: right;\">\n      <th></th>\n      <th>timestamp</th>\n      <th>tx</th>\n      <th>ty</th>\n      <th>tz</th>\n      <th>vx</th>\n      <th>vy</th>\n      <th>vz</th>\n      <th>tx_measured</th>\n      <th>ty_measured</th>\n      <th>tz_measured</th>\n      <th>vx_measured</th>\n      <th>vy_measured</th>\n      <th>vz_measured</th>\n      <th>sigma_pos</th>\n      <th>sigma_vel</th>\n      <th>tx_measured_plus</th>\n      <th>ty_measured_plus</th>\n      <th>tz_measured_plus</th>\n      <th>delta_time</th>\n    </tr>\n  </thead>\n  <tbody>\n    <tr>\n      <th>0</th>\n      <td>0.000000</td>\n      <td>8.275681</td>\n      <td>26.549759</td>\n      <td>7.497171</td>\n      <td>-0.442434</td>\n      <td>0.043865</td>\n      <td>-0.453622</td>\n      <td>10.612595</td>\n      <td>28.166139</td>\n      <td>8.869257</td>\n      <td>-0.443209</td>\n      <td>0.038151</td>\n      <td>-0.456918</td>\n      <td>5</td>\n      <td>0.005</td>\n      <td>7.433444</td>\n      <td>27.212712</td>\n      <td>-2.100882</td>\n      <td>0.100000</td>\n    </tr>\n    <tr>\n      <th>1</th>\n      <td>0.100000</td>\n      <td>8.231438</td>\n      <td>26.554145</td>\n      <td>7.451809</td>\n      <td>-0.519214</td>\n      <td>-0.091192</td>\n      <td>-0.171525</td>\n      <td>7.433444</td>\n      <td>27.212712</td>\n      <td>-2.100882</td>\n      <td>-0.509393</td>\n      <td>-0.089081</td>\n      <td>-0.171874</td>\n      <td>5</td>\n      <td>0.005</td>\n      <td>0.982734</td>\n      <td>30.631518</td>\n      <td>16.090670</td>\n      <td>0.100000</td>\n    </tr>\n    <tr>\n      <th>2</th>\n      <td>0.200000</td>\n      <td>8.179517</td>\n      <td>26.545026</td>\n      <td>7.434656</td>\n      <td>-0.929391</td>\n      <td>-0.068917</td>\n      <td>-0.069919</td>\n      <td>0.982734</td>\n      <td>30.631518</td>\n      <td>16.090670</td>\n      <td>-0.925965</td>\n      <td>-0.065573</td>\n      <td>-0.073432</td>\n      <td>5</td>\n      <td>0.005</td>\n      <td>8.821192</td>\n      <td>24.487001</td>\n      <td>16.403022</td>\n      <td>0.100000</td>\n    </tr>\n    <tr>\n      <th>3</th>\n      <td>0.300000</td>\n      <td>8.086578</td>\n      <td>26.538134</td>\n      <td>7.427664</td>\n      <td>-1.240382</td>\n      <td>0.011767</td>\n      <td>-0.109389</td>\n      <td>8.821192</td>\n      <td>24.487001</td>\n      <td>16.403022</td>\n      <td>-1.238966</td>\n      <td>0.009376</td>\n      <td>-0.104130</td>\n      <td>5</td>\n      <td>0.005</td>\n      <td>13.479048</td>\n      <td>20.463086</td>\n      <td>-7.197470</td>\n      <td>0.100000</td>\n    </tr>\n    <tr>\n      <th>4</th>\n      <td>0.400000</td>\n      <td>7.962540</td>\n      <td>26.539311</td>\n      <td>7.416726</td>\n      <td>-1.633285</td>\n      <td>0.160277</td>\n      <td>-0.131733</td>\n      <td>13.479048</td>\n      <td>20.463086</td>\n      <td>-7.197470</td>\n      <td>-1.635773</td>\n      <td>0.173536</td>\n      <td>-0.131268</td>\n      <td>5</td>\n      <td>0.005</td>\n      <td>9.313731</td>\n      <td>35.779936</td>\n      <td>8.527507</td>\n      <td>0.100000</td>\n    </tr>\n    <tr>\n      <th>...</th>\n      <td>...</td>\n      <td>...</td>\n      <td>...</td>\n      <td>...</td>\n      <td>...</td>\n      <td>...</td>\n      <td>...</td>\n      <td>...</td>\n      <td>...</td>\n      <td>...</td>\n      <td>...</td>\n      <td>...</td>\n      <td>...</td>\n      <td>...</td>\n      <td>...</td>\n      <td>...</td>\n      <td>...</td>\n      <td>...</td>\n      <td>...</td>\n    </tr>\n    <tr>\n      <th>590833</th>\n      <td>11.399989</td>\n      <td>-31.410724</td>\n      <td>-2.445097</td>\n      <td>5.099618</td>\n      <td>-2.817649</td>\n      <td>-2.408035</td>\n      <td>-0.115101</td>\n      <td>-37.071656</td>\n      <td>1.070370</td>\n      <td>7.600478</td>\n      <td>-2.817802</td>\n      <td>-2.401167</td>\n      <td>-0.118081</td>\n      <td>5</td>\n      <td>0.005</td>\n      <td>-27.843968</td>\n      <td>-3.568871</td>\n      <td>5.618723</td>\n      <td>0.099999</td>\n    </tr>\n    <tr>\n      <th>590834</th>\n      <td>11.499989</td>\n      <td>-31.692487</td>\n      <td>-2.685899</td>\n      <td>5.088108</td>\n      <td>-2.732949</td>\n      <td>-2.156075</td>\n      <td>-0.068056</td>\n      <td>-27.843968</td>\n      <td>-3.568871</td>\n      <td>5.618723</td>\n      <td>-2.732276</td>\n      <td>-2.152939</td>\n      <td>-0.073607</td>\n      <td>5</td>\n      <td>0.005</td>\n      <td>-29.424819</td>\n      <td>-5.194920</td>\n      <td>-1.054690</td>\n      <td>0.100000</td>\n    </tr>\n    <tr>\n      <th>590835</th>\n      <td>11.599989</td>\n      <td>-31.965783</td>\n      <td>-2.901507</td>\n      <td>5.081302</td>\n      <td>-3.040037</td>\n      <td>-2.226045</td>\n      <td>-0.004532</td>\n      <td>-29.424819</td>\n      <td>-5.194920</td>\n      <td>-1.054690</td>\n      <td>-3.036804</td>\n      <td>-2.225039</td>\n      <td>0.006333</td>\n      <td>5</td>\n      <td>0.005</td>\n      <td>-33.388292</td>\n      <td>-5.694895</td>\n      <td>11.674932</td>\n      <td>0.100000</td>\n    </tr>\n    <tr>\n      <th>590836</th>\n      <td>11.699989</td>\n      <td>-32.269788</td>\n      <td>-3.124112</td>\n      <td>5.080849</td>\n      <td>-2.856681</td>\n      <td>-1.939021</td>\n      <td>0.032186</td>\n      <td>-33.388292</td>\n      <td>-5.694895</td>\n      <td>11.674932</td>\n      <td>-2.846047</td>\n      <td>-1.935923</td>\n      <td>0.041222</td>\n      <td>5</td>\n      <td>0.005</td>\n      <td>-42.889903</td>\n      <td>-5.098226</td>\n      <td>4.624708</td>\n      <td>0.099999</td>\n    </tr>\n    <tr>\n      <th>590837</th>\n      <td>11.799989</td>\n      <td>-32.555454</td>\n      <td>-3.318013</td>\n      <td>5.084068</td>\n      <td>0.000000</td>\n      <td>0.000000</td>\n      <td>0.000000</td>\n      <td>-42.889903</td>\n      <td>-5.098226</td>\n      <td>4.624708</td>\n      <td>0.005168</td>\n      <td>0.007838</td>\n      <td>0.000119</td>\n      <td>5</td>\n      <td>0.005</td>\n      <td>0.000000</td>\n      <td>0.000000</td>\n      <td>0.000000</td>\n      <td>0.000000</td>\n    </tr>\n  </tbody>\n</table>\n<p>590838 rows × 19 columns</p>\n</div>"
     },
     "metadata": {},
     "output_type": "display_data"
    }
   ],
   "source": [
    "display(test_df_holdout)"
   ],
   "metadata": {
    "collapsed": false,
    "ExecuteTime": {
     "end_time": "2024-12-18T00:46:02.809081Z",
     "start_time": "2024-12-18T00:46:02.790525Z"
    }
   },
   "id": "e5f1196c644b818",
   "execution_count": 46
  },
  {
   "cell_type": "code",
   "outputs": [
    {
     "name": "stdout",
     "output_type": "stream",
     "text": [
      "0.22881196648132196\n"
     ]
    }
   ],
   "source": [
    "# sanity check\n",
    "print(len(train_df)/(len(test_df_holdout) + len(train_df)))"
   ],
   "metadata": {
    "collapsed": false,
    "ExecuteTime": {
     "end_time": "2024-12-18T00:46:02.819082Z",
     "start_time": "2024-12-18T00:46:02.810086Z"
    }
   },
   "id": "e3515903f526aa6b",
   "execution_count": 47
  },
  {
   "cell_type": "code",
   "outputs": [],
   "source": [
    "X_train, y_train, df_cleaned_train = tp.preprocess_and_remove_inter_trajectory_indices(train_df)\n",
    "X_test, y_test, df_cleaned_test = tp.preprocess_and_remove_inter_trajectory_indices(test_df_holdout)"
   ],
   "metadata": {
    "collapsed": false,
    "ExecuteTime": {
     "end_time": "2024-12-18T00:46:03.097874Z",
     "start_time": "2024-12-18T00:46:02.820094Z"
    }
   },
   "id": "29da2ed19c184bae",
   "execution_count": 48
  },
  {
   "cell_type": "code",
   "outputs": [
    {
     "name": "stderr",
     "output_type": "stream",
     "text": [
      " Epoch: 10000/10000 | Loss:  14.19 "
     ]
    },
    {
     "data": {
      "text/plain": "<Figure size 800x600 with 1 Axes>",
      "image/png": "[encoded data removed]"
     },
     "metadata": {},
     "output_type": "display_data"
    },
    {
     "name": "stdout",
     "output_type": "stream",
     "text": [
      "Model weights saved to ../../models/saved_weights/bnn\\10k_0.2TRAJ_5MNOISE_64H_bnn_model_2024-12-17_20-59-18.pth\n",
      "Done loading/training!\n",
      "CPU times: total: 7h 14min 45s\n",
      "Wall time: 1h 13min 15s\n"
     ]
    }
   ],
   "source": [
    "%%time\n",
    "if bnn_presaved:\n",
    "    bnn_model = BNN(input_size=len(x_columns_of_interest), output_size=len(y_columns_of_interest), hidden_layer_size=64, prior_sigma_lay=0.01, epochs=train_epochs, show_info=True)\n",
    "    bnn_model.load_model_weights(f'../../models/saved_weights/bnn/{model_filename}')\n",
    "else:\n",
    "    bnn_model = BNN(input_size=len(x_columns_of_interest), output_size=len(y_columns_of_interest), hidden_layer_size=64, prior_sigma_lay=0.01, epochs=train_epochs, show_info=True)\n",
    "    bnn_model.fit(X_train, y_train)\n",
    "    bnn_model.plot()\n",
    "    bnn_model.save_model_weights(file_prefix=model_fileprefix, directory='../../models/saved_weights/bnn')\n",
    "\n",
    "print('Done loading/training!')"
   ],
   "metadata": {
    "collapsed": false,
    "ExecuteTime": {
     "end_time": "2024-12-18T01:59:19.034728Z",
     "start_time": "2024-12-18T00:46:03.100882Z"
    }
   },
   "id": "5fa3d00af10b6bbd",
   "execution_count": 49
  },
  {
   "cell_type": "code",
   "outputs": [],
   "source": [
    "z_obs_test = torch.tensor(df_cleaned_test[z_obs_columns][:-1].to_numpy(), dtype=torch.float32)"
   ],
   "metadata": {
    "collapsed": false,
    "ExecuteTime": {
     "end_time": "2024-12-18T01:59:19.359978Z",
     "start_time": "2024-12-18T01:59:19.059729Z"
    }
   },
   "id": "57620dd2690d9a34",
   "execution_count": 50
  },
  {
   "cell_type": "code",
   "outputs": [
    {
     "name": "stderr",
     "output_type": "stream",
     "text": [
      " 32%|███▏      | 186367/586763 [32:26<1:09:40, 95.77it/s] \n",
      "\n",
      "KeyboardInterrupt\n",
      "\n"
     ]
    }
   ],
   "source": [
    "%%time\n",
    "avg_bnn_model_err, avg_bnn_model_uncertainty, bnn_model_proposed_traj = ew.evaluate_bayesian_neural_model(bnn_model, df_cleaned_test, X_test, y_test, z_obs_test, pinn_eval=False, apply_EKF_in=False, continuous_eval=False)"
   ],
   "metadata": {
    "collapsed": false,
    "ExecuteTime": {
     "end_time": "2024-12-18T02:31:45.622705Z",
     "start_time": "2024-12-18T01:59:19.390983Z"
    }
   },
   "id": "2fcb9b4d9487596",
   "execution_count": 51
  },
  {
   "cell_type": "code",
   "outputs": [
    {
     "name": "stdout",
     "output_type": "stream",
     "text": [
      "5.7229767\n",
      "0.4149841\n"
     ]
    }
   ],
   "source": [
    "print(np.mean(avg_bnn_model_err))\n",
    "print(np.mean(avg_bnn_model_uncertainty))"
   ],
   "metadata": {
    "collapsed": false,
    "ExecuteTime": {
     "end_time": "2024-12-18T02:31:45.628716Z",
     "start_time": "2024-12-18T02:31:45.623715Z"
    }
   },
   "id": "8903b924b5e5dfc6",
   "execution_count": 52
  },
  {
   "cell_type": "markdown",
   "source": [
    "## 10M UNCERT\n",
    "9.4 ERR, 0.39 UNCER"
   ],
   "metadata": {
    "collapsed": false
   },
   "id": "3037dc75dfa7a9c7"
  },
  {
   "cell_type": "code",
   "outputs": [],
   "source": [],
   "metadata": {
    "collapsed": false,
    "ExecuteTime": {
     "end_time": "2024-12-18T02:31:45.632871Z",
     "start_time": "2024-12-18T02:31:45.629725Z"
    }
   },
   "id": "4fe3d33a4aa65304",
   "execution_count": 52
  }
 ],
 "metadata": {
  "kernelspec": {
   "display_name": "Python 3",
   "language": "python",
   "name": "python3"
  },
  "language_info": {
   "codemirror_mode": {
    "name": "ipython",
    "version": 2
   },
   "file_extension": ".py",
   "mimetype": "text/x-python",
   "name": "python",
   "nbconvert_exporter": "python",
   "pygments_lexer": "ipython2",
   "version": "2.7.6"
  }
 },
 "nbformat": 4,
 "nbformat_minor": 5
}
