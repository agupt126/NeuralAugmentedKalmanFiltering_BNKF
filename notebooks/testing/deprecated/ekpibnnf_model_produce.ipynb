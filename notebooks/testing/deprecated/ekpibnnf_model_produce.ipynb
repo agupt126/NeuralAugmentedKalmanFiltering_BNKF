{
 "cells": [
  {
   "cell_type": "code",
   "outputs": [],
   "source": [
    "# necessary imports\n",
    "import helper.training_preprocess as tp\n",
    "import helper.eval_worker as ew\n",
    "from models.pibnn import PIBNN\n",
    "import torch\n",
    "import numpy as np"
   ],
   "metadata": {
    "collapsed": false,
    "ExecuteTime": {
     "end_time": "2024-12-17T15:16:14.414882Z",
     "start_time": "2024-12-17T15:16:00.730735Z"
    }
   },
   "id": "42f1b07b4aedcdd4",
   "execution_count": 1
  },
  {
   "cell_type": "code",
   "outputs": [],
   "source": [
    "pinn_presaved = False\n",
    "loss_params = {'ml': 0.7, 'physics': 0.3}\n",
    "model_filename = \"TEST_10k_HIGHNOISE_64H_pibnn_model_2024-12-15_17-24-44.pth\"\n",
    "model_fileprefix = \"10k_0.5TRAJ_64H\"\n",
    "\n",
    "train_sensor_measurement_uncertainty = 1\n",
    "train_epochs = 10000\n",
    "training_traj_percent = 0.5"
   ],
   "metadata": {
    "collapsed": false,
    "ExecuteTime": {
     "end_time": "2024-12-17T15:16:14.421840Z",
     "start_time": "2024-12-17T15:16:14.416891Z"
    }
   },
   "id": "fde7e76f9c1b2a00",
   "execution_count": 2
  },
  {
   "cell_type": "code",
   "outputs": [],
   "source": [
    "columns_of_interest_dict = tp.export_preproc_var_columns()\n",
    "x_columns_of_interest = columns_of_interest_dict['x_columns_of_interest']\n",
    "y_columns_of_interest = columns_of_interest_dict['y_columns_of_interest']\n",
    "\n",
    "delta_time_columns = columns_of_interest_dict['delta_t_meas_columns']\n",
    "x_meas_columns = columns_of_interest_dict['x_meas_columns']\n",
    "v_meas_columns = columns_of_interest_dict['v_meas_columns']\n",
    "z_obs_columns = columns_of_interest_dict['z_obs_columns']\n",
    "additional_ml_features = columns_of_interest_dict['additional_ml_features'] "
   ],
   "metadata": {
    "collapsed": false,
    "ExecuteTime": {
     "end_time": "2024-12-17T15:16:14.434720Z",
     "start_time": "2024-12-17T15:16:14.422848Z"
    }
   },
   "id": "21de149e1155439e",
   "execution_count": 3
  },
  {
   "cell_type": "code",
   "outputs": [
    {
     "name": "stdout",
     "output_type": "stream",
     "text": [
      "Number of Train Trajectories: 2547\n",
      "Number of Test Trajectories: 2546\n",
      "CPU times: total: 1min 19s\n",
      "Wall time: 1min 19s\n"
     ]
    }
   ],
   "source": [
    "%%time\n",
    "train_df, test_df_holdout, train_traj_data, test_traj_data_holdout = tp.readin_dataframes(train_split=training_traj_percent, sensor_pos_uncer=train_sensor_measurement_uncertainty)"
   ],
   "metadata": {
    "collapsed": false,
    "ExecuteTime": {
     "end_time": "2024-12-17T15:20:33.751359Z",
     "start_time": "2024-12-17T15:19:13.801339Z"
    }
   },
   "id": "28a3850d53fffa28",
   "execution_count": 5
  },
  {
   "cell_type": "code",
   "outputs": [
    {
     "data": {
      "text/plain": "        timestamp         tx         ty         tz        vx        vy  \\\n0        0.000000 -20.110498   2.792424  17.071516  0.827515 -0.114170   \n1        0.100000 -20.027747   2.781007  17.104970  0.687851 -0.017778   \n2        0.200000 -19.958962   2.779229  17.148497  0.606798  0.254735   \n3        0.300000 -19.898282   2.804703  17.221119  0.404264  0.639850   \n4        0.400000 -19.857856   2.868688  17.274563  0.153350  1.112576   \n...           ...        ...        ...        ...       ...       ...   \n396480  14.699986   4.355189  27.272745  12.449513  0.798235 -1.209915   \n396481  14.799986   4.435013  27.151753  12.427047  0.809838 -1.236443   \n396482  14.899986   4.515997  27.028109  12.390372  0.840176 -1.092647   \n396483  14.999986   4.600014  26.918844  12.348252  0.844423 -1.065764   \n396484  15.099985   4.684456  26.812269  12.290695  0.000000  0.000000   \n\n              vz  tx_measured  ty_measured  tz_measured  vx_measured  \\\n0       0.334543   -21.611026     2.391436    16.381324     0.826959   \n1       0.435271   -19.828032     1.856141    17.862679     0.689375   \n2       0.726220   -18.371934     1.932200    17.462976     0.607735   \n3       0.534433   -19.157385     3.874234    16.791878     0.403823   \n4       0.332398   -21.732932     0.587965    17.748743     0.153689   \n...          ...          ...          ...          ...          ...   \n396480 -0.224657     5.883724    28.373502    11.329899     0.799059   \n396481 -0.366748     3.642787    26.165980    13.724408     0.809373   \n396482 -0.421202     5.668093    27.871432    12.765860     0.841135   \n396483 -0.575578     5.636922    28.484863    10.658809     0.844833   \n396484  0.000000     4.815321    26.253815    14.135020    -0.000384   \n\n        vy_measured  vz_measured  sigma_pos  sigma_vel  tx_measured_plus  \\\n0         -0.114212     0.336245          1      0.001        -19.828032   \n1         -0.017539     0.435579          1      0.001        -18.371934   \n2          0.257501     0.727262          1      0.001        -19.157385   \n3          0.638685     0.534987          1      0.001        -21.732932   \n4          1.111830     0.333181          1      0.001        -18.564013   \n...             ...          ...        ...        ...               ...   \n396480    -1.209972    -0.223771          1      0.001          3.642787   \n396481    -1.236651    -0.366901          1      0.001          5.668093   \n396482    -1.093343    -0.419992          1      0.001          5.636922   \n396483    -1.066495    -0.575009          1      0.001          4.815321   \n396484    -0.000226     0.000747          1      0.001          0.000000   \n\n        ty_measured_plus  tz_measured_plus  delta_time  \n0               1.856141         17.862679    0.100000  \n1               1.932200         17.462976    0.100000  \n2               3.874234         16.791878    0.100000  \n3               0.587965         17.748743    0.100000  \n4               3.049962         16.696777    0.100000  \n...                  ...               ...         ...  \n396480         26.165980         13.724408    0.100000  \n396481         27.871432         12.765860    0.100000  \n396482         28.484863         10.658809    0.099999  \n396483         26.253815         14.135020    0.099999  \n396484          0.000000          0.000000    0.000000  \n\n[396485 rows x 19 columns]",
      "text/html": "<div>\n<style scoped>\n    .dataframe tbody tr th:only-of-type {\n        vertical-align: middle;\n    }\n\n    .dataframe tbody tr th {\n        vertical-align: top;\n    }\n\n    .dataframe thead th {\n        text-align: right;\n    }\n</style>\n<table border=\"1\" class=\"dataframe\">\n  <thead>\n    <tr style=\"text-align: right;\">\n      <th></th>\n      <th>timestamp</th>\n      <th>tx</th>\n      <th>ty</th>\n      <th>tz</th>\n      <th>vx</th>\n      <th>vy</th>\n      <th>vz</th>\n      <th>tx_measured</th>\n      <th>ty_measured</th>\n      <th>tz_measured</th>\n      <th>vx_measured</th>\n      <th>vy_measured</th>\n      <th>vz_measured</th>\n      <th>sigma_pos</th>\n      <th>sigma_vel</th>\n      <th>tx_measured_plus</th>\n      <th>ty_measured_plus</th>\n      <th>tz_measured_plus</th>\n      <th>delta_time</th>\n    </tr>\n  </thead>\n  <tbody>\n    <tr>\n      <th>0</th>\n      <td>0.000000</td>\n      <td>-20.110498</td>\n      <td>2.792424</td>\n      <td>17.071516</td>\n      <td>0.827515</td>\n      <td>-0.114170</td>\n      <td>0.334543</td>\n      <td>-21.611026</td>\n      <td>2.391436</td>\n      <td>16.381324</td>\n      <td>0.826959</td>\n      <td>-0.114212</td>\n      <td>0.336245</td>\n      <td>1</td>\n      <td>0.001</td>\n      <td>-19.828032</td>\n      <td>1.856141</td>\n      <td>17.862679</td>\n      <td>0.100000</td>\n    </tr>\n    <tr>\n      <th>1</th>\n      <td>0.100000</td>\n      <td>-20.027747</td>\n      <td>2.781007</td>\n      <td>17.104970</td>\n      <td>0.687851</td>\n      <td>-0.017778</td>\n      <td>0.435271</td>\n      <td>-19.828032</td>\n      <td>1.856141</td>\n      <td>17.862679</td>\n      <td>0.689375</td>\n      <td>-0.017539</td>\n      <td>0.435579</td>\n      <td>1</td>\n      <td>0.001</td>\n      <td>-18.371934</td>\n      <td>1.932200</td>\n      <td>17.462976</td>\n      <td>0.100000</td>\n    </tr>\n    <tr>\n      <th>2</th>\n      <td>0.200000</td>\n      <td>-19.958962</td>\n      <td>2.779229</td>\n      <td>17.148497</td>\n      <td>0.606798</td>\n      <td>0.254735</td>\n      <td>0.726220</td>\n      <td>-18.371934</td>\n      <td>1.932200</td>\n      <td>17.462976</td>\n      <td>0.607735</td>\n      <td>0.257501</td>\n      <td>0.727262</td>\n      <td>1</td>\n      <td>0.001</td>\n      <td>-19.157385</td>\n      <td>3.874234</td>\n      <td>16.791878</td>\n      <td>0.100000</td>\n    </tr>\n    <tr>\n      <th>3</th>\n      <td>0.300000</td>\n      <td>-19.898282</td>\n      <td>2.804703</td>\n      <td>17.221119</td>\n      <td>0.404264</td>\n      <td>0.639850</td>\n      <td>0.534433</td>\n      <td>-19.157385</td>\n      <td>3.874234</td>\n      <td>16.791878</td>\n      <td>0.403823</td>\n      <td>0.638685</td>\n      <td>0.534987</td>\n      <td>1</td>\n      <td>0.001</td>\n      <td>-21.732932</td>\n      <td>0.587965</td>\n      <td>17.748743</td>\n      <td>0.100000</td>\n    </tr>\n    <tr>\n      <th>4</th>\n      <td>0.400000</td>\n      <td>-19.857856</td>\n      <td>2.868688</td>\n      <td>17.274563</td>\n      <td>0.153350</td>\n      <td>1.112576</td>\n      <td>0.332398</td>\n      <td>-21.732932</td>\n      <td>0.587965</td>\n      <td>17.748743</td>\n      <td>0.153689</td>\n      <td>1.111830</td>\n      <td>0.333181</td>\n      <td>1</td>\n      <td>0.001</td>\n      <td>-18.564013</td>\n      <td>3.049962</td>\n      <td>16.696777</td>\n      <td>0.100000</td>\n    </tr>\n    <tr>\n      <th>...</th>\n      <td>...</td>\n      <td>...</td>\n      <td>...</td>\n      <td>...</td>\n      <td>...</td>\n      <td>...</td>\n      <td>...</td>\n      <td>...</td>\n      <td>...</td>\n      <td>...</td>\n      <td>...</td>\n      <td>...</td>\n      <td>...</td>\n      <td>...</td>\n      <td>...</td>\n      <td>...</td>\n      <td>...</td>\n      <td>...</td>\n      <td>...</td>\n    </tr>\n    <tr>\n      <th>396480</th>\n      <td>14.699986</td>\n      <td>4.355189</td>\n      <td>27.272745</td>\n      <td>12.449513</td>\n      <td>0.798235</td>\n      <td>-1.209915</td>\n      <td>-0.224657</td>\n      <td>5.883724</td>\n      <td>28.373502</td>\n      <td>11.329899</td>\n      <td>0.799059</td>\n      <td>-1.209972</td>\n      <td>-0.223771</td>\n      <td>1</td>\n      <td>0.001</td>\n      <td>3.642787</td>\n      <td>26.165980</td>\n      <td>13.724408</td>\n      <td>0.100000</td>\n    </tr>\n    <tr>\n      <th>396481</th>\n      <td>14.799986</td>\n      <td>4.435013</td>\n      <td>27.151753</td>\n      <td>12.427047</td>\n      <td>0.809838</td>\n      <td>-1.236443</td>\n      <td>-0.366748</td>\n      <td>3.642787</td>\n      <td>26.165980</td>\n      <td>13.724408</td>\n      <td>0.809373</td>\n      <td>-1.236651</td>\n      <td>-0.366901</td>\n      <td>1</td>\n      <td>0.001</td>\n      <td>5.668093</td>\n      <td>27.871432</td>\n      <td>12.765860</td>\n      <td>0.100000</td>\n    </tr>\n    <tr>\n      <th>396482</th>\n      <td>14.899986</td>\n      <td>4.515997</td>\n      <td>27.028109</td>\n      <td>12.390372</td>\n      <td>0.840176</td>\n      <td>-1.092647</td>\n      <td>-0.421202</td>\n      <td>5.668093</td>\n      <td>27.871432</td>\n      <td>12.765860</td>\n      <td>0.841135</td>\n      <td>-1.093343</td>\n      <td>-0.419992</td>\n      <td>1</td>\n      <td>0.001</td>\n      <td>5.636922</td>\n      <td>28.484863</td>\n      <td>10.658809</td>\n      <td>0.099999</td>\n    </tr>\n    <tr>\n      <th>396483</th>\n      <td>14.999986</td>\n      <td>4.600014</td>\n      <td>26.918844</td>\n      <td>12.348252</td>\n      <td>0.844423</td>\n      <td>-1.065764</td>\n      <td>-0.575578</td>\n      <td>5.636922</td>\n      <td>28.484863</td>\n      <td>10.658809</td>\n      <td>0.844833</td>\n      <td>-1.066495</td>\n      <td>-0.575009</td>\n      <td>1</td>\n      <td>0.001</td>\n      <td>4.815321</td>\n      <td>26.253815</td>\n      <td>14.135020</td>\n      <td>0.099999</td>\n    </tr>\n    <tr>\n      <th>396484</th>\n      <td>15.099985</td>\n      <td>4.684456</td>\n      <td>26.812269</td>\n      <td>12.290695</td>\n      <td>0.000000</td>\n      <td>0.000000</td>\n      <td>0.000000</td>\n      <td>4.815321</td>\n      <td>26.253815</td>\n      <td>14.135020</td>\n      <td>-0.000384</td>\n      <td>-0.000226</td>\n      <td>0.000747</td>\n      <td>1</td>\n      <td>0.001</td>\n      <td>0.000000</td>\n      <td>0.000000</td>\n      <td>0.000000</td>\n      <td>0.000000</td>\n    </tr>\n  </tbody>\n</table>\n<p>396485 rows × 19 columns</p>\n</div>"
     },
     "metadata": {},
     "output_type": "display_data"
    }
   ],
   "source": [
    "display(train_df)"
   ],
   "metadata": {
    "collapsed": false,
    "ExecuteTime": {
     "end_time": "2024-12-17T15:20:33.778689Z",
     "start_time": "2024-12-17T15:20:33.752371Z"
    }
   },
   "id": "74f3a4aff83dd0c6",
   "execution_count": 6
  },
  {
   "cell_type": "code",
   "outputs": [
    {
     "data": {
      "text/plain": "       timestamp         tx        ty         tz        vx        vy  \\\n0       0.000000 -40.805557 -7.557310  16.847527 -3.592263  0.964076   \n1       0.100000 -41.164783 -7.460903  16.856468 -2.761677  0.770851   \n2       0.200000 -41.440951 -7.383818  16.875478 -2.402171  0.680947   \n3       0.300000 -41.681167 -7.315723  16.933560 -1.839856  0.252255   \n4       0.399999 -41.865152 -7.290498  17.034110 -1.630406 -0.376203   \n...          ...        ...       ...        ...       ...       ...   \n74797  11.399989 -31.410724 -2.445097   5.099618 -2.817649 -2.408035   \n74798  11.499989 -31.692487 -2.685899   5.088108 -2.732949 -2.156075   \n74799  11.599989 -31.965783 -2.901507   5.081302 -3.040037 -2.226045   \n74800  11.699989 -32.269788 -3.124112   5.080849 -2.856681 -1.939021   \n74801  11.799989 -32.555454 -3.318013   5.084068  0.000000  0.000000   \n\n             vz  tx_measured  ty_measured  tz_measured  vx_measured  \\\n0      0.089414   -40.867023    -7.526874    18.541413    -3.592604   \n1      0.190097   -39.209163    -6.877028    16.625591    -2.762116   \n2      0.580820   -40.388682    -6.589631    18.558480    -2.401588   \n3      1.005508   -42.248153    -7.543787    17.402180    -1.839629   \n4      1.386813   -42.761191    -6.864312    16.270852    -1.628792   \n...         ...          ...          ...          ...          ...   \n74797 -0.115101   -31.376771    -1.490107     6.000418    -2.818196   \n74798 -0.068056   -31.797576    -3.266774     3.274953    -2.731822   \n74799 -0.004532   -32.336632    -3.426699     5.648585    -3.037222   \n74800  0.032186   -31.763283    -1.592474     4.147499    -2.856319   \n74801  0.000000   -34.452411    -2.851320     3.876615    -0.000513   \n\n       vy_measured  vz_measured  sigma_pos  sigma_vel  tx_measured_plus  \\\n0         0.964169     0.089601          1      0.001        -39.209163   \n1         0.771251     0.189518          1      0.001        -40.388682   \n2         0.681757     0.580544          1      0.001        -42.248153   \n3         0.252828     1.007192          1      0.001        -42.761191   \n4        -0.377010     1.387763          1      0.001        -42.660903   \n...            ...          ...        ...        ...               ...   \n74797    -2.405788    -0.115301          1      0.001        -31.797576   \n74798    -2.156873    -0.068578          1      0.001        -32.336632   \n74799    -2.224969    -0.005116          1      0.001        -31.763283   \n74800    -1.938242     0.032143          1      0.001        -34.452411   \n74801     0.000028    -0.000064          1      0.001          0.000000   \n\n       ty_measured_plus  tz_measured_plus  delta_time  \n0             -6.877028         16.625591    0.100000  \n1             -6.589631         18.558480    0.100000  \n2             -7.543787         17.402180    0.100000  \n3             -6.864312         16.270852    0.100000  \n4             -6.376168         16.800675    0.100000  \n...                 ...               ...         ...  \n74797         -3.266774          3.274953    0.099999  \n74798         -3.426699          5.648585    0.100000  \n74799         -1.592474          4.147499    0.100000  \n74800         -2.851320          3.876615    0.099999  \n74801          0.000000          0.000000    0.000000  \n\n[74802 rows x 19 columns]",
      "text/html": "<div>\n<style scoped>\n    .dataframe tbody tr th:only-of-type {\n        vertical-align: middle;\n    }\n\n    .dataframe tbody tr th {\n        vertical-align: top;\n    }\n\n    .dataframe thead th {\n        text-align: right;\n    }\n</style>\n<table border=\"1\" class=\"dataframe\">\n  <thead>\n    <tr style=\"text-align: right;\">\n      <th></th>\n      <th>timestamp</th>\n      <th>tx</th>\n      <th>ty</th>\n      <th>tz</th>\n      <th>vx</th>\n      <th>vy</th>\n      <th>vz</th>\n      <th>tx_measured</th>\n      <th>ty_measured</th>\n      <th>tz_measured</th>\n      <th>vx_measured</th>\n      <th>vy_measured</th>\n      <th>vz_measured</th>\n      <th>sigma_pos</th>\n      <th>sigma_vel</th>\n      <th>tx_measured_plus</th>\n      <th>ty_measured_plus</th>\n      <th>tz_measured_plus</th>\n      <th>delta_time</th>\n    </tr>\n  </thead>\n  <tbody>\n    <tr>\n      <th>0</th>\n      <td>0.000000</td>\n      <td>-40.805557</td>\n      <td>-7.557310</td>\n      <td>16.847527</td>\n      <td>-3.592263</td>\n      <td>0.964076</td>\n      <td>0.089414</td>\n      <td>-40.867023</td>\n      <td>-7.526874</td>\n      <td>18.541413</td>\n      <td>-3.592604</td>\n      <td>0.964169</td>\n      <td>0.089601</td>\n      <td>1</td>\n      <td>0.001</td>\n      <td>-39.209163</td>\n      <td>-6.877028</td>\n      <td>16.625591</td>\n      <td>0.100000</td>\n    </tr>\n    <tr>\n      <th>1</th>\n      <td>0.100000</td>\n      <td>-41.164783</td>\n      <td>-7.460903</td>\n      <td>16.856468</td>\n      <td>-2.761677</td>\n      <td>0.770851</td>\n      <td>0.190097</td>\n      <td>-39.209163</td>\n      <td>-6.877028</td>\n      <td>16.625591</td>\n      <td>-2.762116</td>\n      <td>0.771251</td>\n      <td>0.189518</td>\n      <td>1</td>\n      <td>0.001</td>\n      <td>-40.388682</td>\n      <td>-6.589631</td>\n      <td>18.558480</td>\n      <td>0.100000</td>\n    </tr>\n    <tr>\n      <th>2</th>\n      <td>0.200000</td>\n      <td>-41.440951</td>\n      <td>-7.383818</td>\n      <td>16.875478</td>\n      <td>-2.402171</td>\n      <td>0.680947</td>\n      <td>0.580820</td>\n      <td>-40.388682</td>\n      <td>-6.589631</td>\n      <td>18.558480</td>\n      <td>-2.401588</td>\n      <td>0.681757</td>\n      <td>0.580544</td>\n      <td>1</td>\n      <td>0.001</td>\n      <td>-42.248153</td>\n      <td>-7.543787</td>\n      <td>17.402180</td>\n      <td>0.100000</td>\n    </tr>\n    <tr>\n      <th>3</th>\n      <td>0.300000</td>\n      <td>-41.681167</td>\n      <td>-7.315723</td>\n      <td>16.933560</td>\n      <td>-1.839856</td>\n      <td>0.252255</td>\n      <td>1.005508</td>\n      <td>-42.248153</td>\n      <td>-7.543787</td>\n      <td>17.402180</td>\n      <td>-1.839629</td>\n      <td>0.252828</td>\n      <td>1.007192</td>\n      <td>1</td>\n      <td>0.001</td>\n      <td>-42.761191</td>\n      <td>-6.864312</td>\n      <td>16.270852</td>\n      <td>0.100000</td>\n    </tr>\n    <tr>\n      <th>4</th>\n      <td>0.399999</td>\n      <td>-41.865152</td>\n      <td>-7.290498</td>\n      <td>17.034110</td>\n      <td>-1.630406</td>\n      <td>-0.376203</td>\n      <td>1.386813</td>\n      <td>-42.761191</td>\n      <td>-6.864312</td>\n      <td>16.270852</td>\n      <td>-1.628792</td>\n      <td>-0.377010</td>\n      <td>1.387763</td>\n      <td>1</td>\n      <td>0.001</td>\n      <td>-42.660903</td>\n      <td>-6.376168</td>\n      <td>16.800675</td>\n      <td>0.100000</td>\n    </tr>\n    <tr>\n      <th>...</th>\n      <td>...</td>\n      <td>...</td>\n      <td>...</td>\n      <td>...</td>\n      <td>...</td>\n      <td>...</td>\n      <td>...</td>\n      <td>...</td>\n      <td>...</td>\n      <td>...</td>\n      <td>...</td>\n      <td>...</td>\n      <td>...</td>\n      <td>...</td>\n      <td>...</td>\n      <td>...</td>\n      <td>...</td>\n      <td>...</td>\n      <td>...</td>\n    </tr>\n    <tr>\n      <th>74797</th>\n      <td>11.399989</td>\n      <td>-31.410724</td>\n      <td>-2.445097</td>\n      <td>5.099618</td>\n      <td>-2.817649</td>\n      <td>-2.408035</td>\n      <td>-0.115101</td>\n      <td>-31.376771</td>\n      <td>-1.490107</td>\n      <td>6.000418</td>\n      <td>-2.818196</td>\n      <td>-2.405788</td>\n      <td>-0.115301</td>\n      <td>1</td>\n      <td>0.001</td>\n      <td>-31.797576</td>\n      <td>-3.266774</td>\n      <td>3.274953</td>\n      <td>0.099999</td>\n    </tr>\n    <tr>\n      <th>74798</th>\n      <td>11.499989</td>\n      <td>-31.692487</td>\n      <td>-2.685899</td>\n      <td>5.088108</td>\n      <td>-2.732949</td>\n      <td>-2.156075</td>\n      <td>-0.068056</td>\n      <td>-31.797576</td>\n      <td>-3.266774</td>\n      <td>3.274953</td>\n      <td>-2.731822</td>\n      <td>-2.156873</td>\n      <td>-0.068578</td>\n      <td>1</td>\n      <td>0.001</td>\n      <td>-32.336632</td>\n      <td>-3.426699</td>\n      <td>5.648585</td>\n      <td>0.100000</td>\n    </tr>\n    <tr>\n      <th>74799</th>\n      <td>11.599989</td>\n      <td>-31.965783</td>\n      <td>-2.901507</td>\n      <td>5.081302</td>\n      <td>-3.040037</td>\n      <td>-2.226045</td>\n      <td>-0.004532</td>\n      <td>-32.336632</td>\n      <td>-3.426699</td>\n      <td>5.648585</td>\n      <td>-3.037222</td>\n      <td>-2.224969</td>\n      <td>-0.005116</td>\n      <td>1</td>\n      <td>0.001</td>\n      <td>-31.763283</td>\n      <td>-1.592474</td>\n      <td>4.147499</td>\n      <td>0.100000</td>\n    </tr>\n    <tr>\n      <th>74800</th>\n      <td>11.699989</td>\n      <td>-32.269788</td>\n      <td>-3.124112</td>\n      <td>5.080849</td>\n      <td>-2.856681</td>\n      <td>-1.939021</td>\n      <td>0.032186</td>\n      <td>-31.763283</td>\n      <td>-1.592474</td>\n      <td>4.147499</td>\n      <td>-2.856319</td>\n      <td>-1.938242</td>\n      <td>0.032143</td>\n      <td>1</td>\n      <td>0.001</td>\n      <td>-34.452411</td>\n      <td>-2.851320</td>\n      <td>3.876615</td>\n      <td>0.099999</td>\n    </tr>\n    <tr>\n      <th>74801</th>\n      <td>11.799989</td>\n      <td>-32.555454</td>\n      <td>-3.318013</td>\n      <td>5.084068</td>\n      <td>0.000000</td>\n      <td>0.000000</td>\n      <td>0.000000</td>\n      <td>-34.452411</td>\n      <td>-2.851320</td>\n      <td>3.876615</td>\n      <td>-0.000513</td>\n      <td>0.000028</td>\n      <td>-0.000064</td>\n      <td>1</td>\n      <td>0.001</td>\n      <td>0.000000</td>\n      <td>0.000000</td>\n      <td>0.000000</td>\n      <td>0.000000</td>\n    </tr>\n  </tbody>\n</table>\n<p>74802 rows × 19 columns</p>\n</div>"
     },
     "metadata": {},
     "output_type": "display_data"
    }
   ],
   "source": [
    "display(test_df_holdout)"
   ],
   "metadata": {
    "collapsed": false,
    "ExecuteTime": {
     "end_time": "2024-12-17T15:20:33.792913Z",
     "start_time": "2024-12-17T15:20:33.779696Z"
    }
   },
   "id": "9b59e3c5fa4a57f5",
   "execution_count": 7
  },
  {
   "cell_type": "code",
   "outputs": [
    {
     "name": "stdout",
     "output_type": "stream",
     "text": [
      "0.841281427240726\n"
     ]
    }
   ],
   "source": [
    "# sanity check\n",
    "print(len(train_df)/(len(test_df_holdout) + len(train_df)))"
   ],
   "metadata": {
    "collapsed": false,
    "ExecuteTime": {
     "end_time": "2024-12-17T15:20:33.805001Z",
     "start_time": "2024-12-17T15:20:33.793919Z"
    }
   },
   "id": "b374690360b1ee3d",
   "execution_count": 8
  },
  {
   "cell_type": "code",
   "outputs": [],
   "source": [
    "X_train, y_train, df_cleaned_train = tp.preprocess_and_remove_inter_trajectory_indices(train_df)\n",
    "X_test, y_test, df_cleaned_test = tp.preprocess_and_remove_inter_trajectory_indices(test_df_holdout)"
   ],
   "metadata": {
    "collapsed": false,
    "ExecuteTime": {
     "end_time": "2024-12-17T15:20:33.972092Z",
     "start_time": "2024-12-17T15:20:33.806008Z"
    }
   },
   "id": "933e59b241f09c2",
   "execution_count": 9
  },
  {
   "cell_type": "code",
   "outputs": [
    {
     "name": "stderr",
     "output_type": "stream",
     "text": [
      " Epoch: 10000/10000 | Loss:   4.18 "
     ]
    },
    {
     "data": {
      "text/plain": "<Figure size 800x600 with 1 Axes>",
      "image/png": "[encoded data removed]"
     },
     "metadata": {},
     "output_type": "display_data"
    },
    {
     "name": "stdout",
     "output_type": "stream",
     "text": [
      "Model weights saved to ../../models/saved_weights/pibnn\\10k_0.5TRAJ_64H_pibnn_model_2024-12-17_11-06-29.pth\n",
      "CPU times: total: 6h 2min 23s\n",
      "Wall time: 45min 56s\n"
     ]
    }
   ],
   "source": [
    "%%time\n",
    "if pinn_presaved:\n",
    "    pinn_model = PIBNN(input_size=8, output_size=len(y_columns_of_interest), hidden_layer_size=64, prior_sigma_lay=0.01, sensor_measurement_uncertainty=train_sensor_measurement_uncertainty, lambda_params=loss_params, epochs=train_epochs, bias_in=True)\n",
    "    pinn_model.load_model_weights(f'../../models/saved_weights/pibnn/{model_filename}')\n",
    "else:\n",
    "    y_vel = torch.tensor(df_cleaned_train[['vx', 'vy', 'vz']][:-1].to_numpy(), dtype=torch.float32)\n",
    "    x_meas = torch.tensor(df_cleaned_train[x_meas_columns][:-1].to_numpy(), dtype=torch.float32)\n",
    "    v_meas = torch.tensor(df_cleaned_train[v_meas_columns][:-1].to_numpy(), dtype=torch.float32)\n",
    "    dt_meas = torch.tensor(df_cleaned_train[delta_time_columns][:-1].to_numpy(), dtype=torch.float32)\n",
    "    X_feature_space = torch.tensor(df_cleaned_train[additional_ml_features][:-1].to_numpy(), dtype=torch.float32)\n",
    "    \n",
    "    pinn_model = PIBNN(input_size=8, output_size=len(y_columns_of_interest), hidden_layer_size=64, prior_sigma_lay=0.01, sensor_measurement_uncertainty=train_sensor_measurement_uncertainty, lambda_params=loss_params, epochs=train_epochs, bias_in=True)\n",
    "    \n",
    "    pinn_model.fit(x_meas, v_meas, dt_meas, y_vel, X_feature_space, y_train)\n",
    "    pinn_model.plot()\n",
    "    pinn_model.save_model_weights(file_prefix=model_fileprefix, directory='../../models/saved_weights/pibnn')"
   ],
   "metadata": {
    "collapsed": false,
    "ExecuteTime": {
     "end_time": "2024-12-17T16:06:29.996577Z",
     "start_time": "2024-12-17T15:20:33.974100Z"
    }
   },
   "id": "3d2385cc3dd8f51f",
   "execution_count": 10
  },
  {
   "cell_type": "code",
   "outputs": [],
   "source": [
    "z_obs_test = torch.tensor(df_cleaned_test[z_obs_columns][1:].to_numpy(), dtype=torch.float32)"
   ],
   "metadata": {
    "collapsed": false,
    "ExecuteTime": {
     "end_time": "2024-12-17T16:06:30.005036Z",
     "start_time": "2024-12-17T16:06:29.997596Z"
    }
   },
   "id": "7b7ac8403e621049",
   "execution_count": 11
  },
  {
   "cell_type": "code",
   "outputs": [
    {
     "name": "stdout",
     "output_type": "stream",
     "text": [
      "torch.Size([74293, 3])\n",
      "torch.Size([74293, 12])\n"
     ]
    }
   ],
   "source": [
    "print(z_obs_test.shape)\n",
    "print(X_test.shape)"
   ],
   "metadata": {
    "collapsed": false,
    "ExecuteTime": {
     "end_time": "2024-12-17T16:06:30.016339Z",
     "start_time": "2024-12-17T16:06:30.006051Z"
    }
   },
   "id": "9d2e392a3d046810",
   "execution_count": 12
  },
  {
   "cell_type": "code",
   "outputs": [
    {
     "name": "stderr",
     "output_type": "stream",
     "text": [
      "100%|██████████| 74292/74292 [05:59<00:00, 206.94it/s]"
     ]
    },
    {
     "name": "stdout",
     "output_type": "stream",
     "text": [
      "CPU times: total: 47min 44s\n",
      "Wall time: 5min 59s\n"
     ]
    },
    {
     "name": "stderr",
     "output_type": "stream",
     "text": [
      "\n"
     ]
    }
   ],
   "source": [
    "%%time\n",
    "avg_pinn_model_err, avg_pinn_model_uncertainty, pinn_model_proposed_traj = ew.evaluate_bayesian_neural_model(pinn_model, df_cleaned_test, X_test, y_test, z_obs_test, pinn_eval=True, continuous_eval=True, apply_EKF_in=True)"
   ],
   "metadata": {
    "collapsed": false,
    "ExecuteTime": {
     "end_time": "2024-12-17T16:12:29.042830Z",
     "start_time": "2024-12-17T16:06:30.017348Z"
    }
   },
   "id": "9ac8aca44ba6243e",
   "execution_count": 13
  },
  {
   "cell_type": "code",
   "outputs": [
    {
     "name": "stdout",
     "output_type": "stream",
     "text": [
      "AVG Error: 1.8936353985065524\n",
      "AVG Uncertainty: 0.15280677232011378\n"
     ]
    }
   ],
   "source": [
    "print(f\"AVG Error: {np.mean(avg_pinn_model_err)}\")\n",
    "print(f\"AVG Uncertainty: {np.mean(avg_pinn_model_uncertainty)}\")"
   ],
   "metadata": {
    "collapsed": false,
    "ExecuteTime": {
     "end_time": "2024-12-17T16:12:29.050255Z",
     "start_time": "2024-12-17T16:12:29.045837Z"
    }
   },
   "id": "f28fd123d01a3b91",
   "execution_count": 14
  },
  {
   "cell_type": "code",
   "outputs": [],
   "source": [],
   "metadata": {
    "collapsed": false,
    "ExecuteTime": {
     "end_time": "2024-12-17T16:12:29.054360Z",
     "start_time": "2024-12-17T16:12:29.051262Z"
    }
   },
   "id": "553977f7f463de13",
   "execution_count": 14
  }
 ],
 "metadata": {
  "kernelspec": {
   "display_name": "Python 3",
   "language": "python",
   "name": "python3"
  },
  "language_info": {
   "codemirror_mode": {
    "name": "ipython",
    "version": 2
   },
   "file_extension": ".py",
   "mimetype": "text/x-python",
   "name": "python",
   "nbconvert_exporter": "python",
   "pygments_lexer": "ipython2",
   "version": "2.7.6"
  }
 },
 "nbformat": 4,
 "nbformat_minor": 5
}
