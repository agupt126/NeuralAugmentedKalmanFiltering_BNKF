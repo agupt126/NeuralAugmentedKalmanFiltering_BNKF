{
 "cells": [
  {
   "cell_type": "code",
   "execution_count": 4,
   "id": "initial_id",
   "metadata": {
    "collapsed": true,
    "ExecuteTime": {
     "end_time": "2025-03-04T00:17:22.631914Z",
     "start_time": "2025-03-04T00:17:22.627257Z"
    }
   },
   "outputs": [],
   "source": [
    "import pickle\n",
    "import os\n",
    "import torch\n",
    "import pandas as pd\n",
    "from copy import deepcopy\n",
    "from tqdm import tqdm\n",
    "import numpy as np\n",
    "import helper.training_preprocess as tp\n",
    "from models.pibnn_v2 import PIBNNV2\n",
    "from helper.evaluator import Evaluator\n",
    "from helper.functions import visualize_dual_3d_scatter, store_truth_data, convert_std_list_to_matrix\n",
    "from helper.trajectory import Trajectory\n",
    "from models.stonesoup_radar_sim import StonesoupRadarSim"
   ]
  },
  {
   "cell_type": "code",
   "outputs": [],
   "source": [
    "def return_sampled_df(traj_obj_in, a_sample_pct_rmv):\n",
    "    traj_obj_in.apply_sampling_gaps(a_sample_pct_rmv)\n",
    "    traj_obj_in.set_converted_measurement_data(measurement_conversion_data, vel=True)\n",
    "    traj_obj_in.set_measurement_sigmas(radar_simulator.bearing_std, radar_simulator.elev_std,radar_simulator.range_std, radar_simulator.range_rate_std)\n",
    "    sample_df = traj_obj_in.return_trajectory_df()\n",
    "    return traj_obj_in.return_nn_prepared_df(sample_df)"
   ],
   "metadata": {
    "collapsed": false,
    "ExecuteTime": {
     "end_time": "2025-03-04T00:17:23.058510Z",
     "start_time": "2025-03-04T00:17:23.054238Z"
    }
   },
   "id": "80bff09132ddf4e1",
   "execution_count": 5
  },
  {
   "cell_type": "code",
   "outputs": [],
   "source": [
    "# training params\n",
    "\n",
    "incl_rr = True\n",
    "\n",
    "X_columns = [\"measured_x\", \"measured_y\", \"measured_z\", \"measured_vx\", \"measured_vy\", \"measured_vz\",\n",
    "             \"measured_plus_x\", \"measured_plus_y\", \"measured_plus_z\", \"measured_plus_vx\", \"measured_plus_vy\", \"measured_plus_vz\",\n",
    "             \"sigma_range\", \"sigma_range_rate\", \"sigma_elevation\", \"sigma_bearing\", \"delta_time\"]\n",
    "\n",
    "y_columns = [\"truth_x\", \"truth_y\", \"truth_z\", \"truth_vx\", \"truth_vy\", \"truth_vz\"]\n",
    "\n",
    "noise_levels = ['low', 'mid', 'high']"
   ],
   "metadata": {
    "collapsed": false,
    "ExecuteTime": {
     "end_time": "2025-03-04T00:17:23.468853Z",
     "start_time": "2025-03-04T00:17:23.464426Z"
    }
   },
   "id": "4b79210faa12c614",
   "execution_count": 6
  },
  {
   "cell_type": "code",
   "outputs": [],
   "source": [
    "pd.set_option('display.max_rows', None)  # Show all rows\n",
    "pd.set_option('display.max_columns', None)  # Show all columns\n",
    "pd.set_option('display.width', None)  # Auto-adjust width\n",
    "pd.set_option('display.max_colwidth', None)  # Show full column content"
   ],
   "metadata": {
    "collapsed": false,
    "ExecuteTime": {
     "end_time": "2025-03-04T00:17:24.258880Z",
     "start_time": "2025-03-04T00:17:24.254877Z"
    }
   },
   "id": "e3be2e20a47e1d79",
   "execution_count": 7
  },
  {
   "cell_type": "code",
   "outputs": [
    {
     "name": "stderr",
     "output_type": "stream",
     "text": [
      "100%|██████████| 5093/5093 [08:53<00:00,  9.54it/s]\n"
     ]
    },
    {
     "name": "stdout",
     "output_type": "stream",
     "text": [
      "Saved!\n"
     ]
    },
    {
     "name": "stderr",
     "output_type": "stream",
     "text": [
      "100%|██████████| 5093/5093 [07:05<00:00, 11.96it/s]\n"
     ]
    },
    {
     "name": "stdout",
     "output_type": "stream",
     "text": [
      "Saved!\n"
     ]
    },
    {
     "name": "stderr",
     "output_type": "stream",
     "text": [
      "100%|██████████| 5093/5093 [07:07<00:00, 11.93it/s]\n"
     ]
    },
    {
     "name": "stdout",
     "output_type": "stream",
     "text": [
      "Saved!\n"
     ]
    }
   ],
   "source": [
    "redo = True\n",
    "for level in noise_levels:\n",
    "    radar_simulator = StonesoupRadarSim(sensor_noise_level=level, include_range_rate=incl_rr)\n",
    "    path_in = f\"../../dataset/dataframe-readins/full_traj_data.pkl\"\n",
    "    save_out = f\"../../dataset/dataframe-readins/cv/augmented/full_traj_data_proc_noise_{level}.pkl\"\n",
    "    if os.path.exists(save_out) and not redo:\n",
    "        print(f\"{level} filesave already exists, skipping\")\n",
    "        continue\n",
    "    if os.path.exists(path_in):\n",
    "        with open(path_in, \"rb\") as c:\n",
    "            full_proc_traj_data = pickle.load(c)\n",
    "    \n",
    "    augmented_full_proc_traj_data = {}\n",
    "    for traj_no, trajectory in tqdm(full_proc_traj_data.items()):\n",
    "        traj_obj = Trajectory(store_truth_data(trajectory), traj_no)\n",
    "        radar_meas = radar_simulator.simulate_radar_measurements(traj_obj)\n",
    "        temp, measurement_conversion_data = radar_simulator.convert_radar_observations_to_cartesian(radar_meas)\n",
    "        \n",
    "        df1 = return_sampled_df(deepcopy(traj_obj), 0)\n",
    "        df2 = return_sampled_df(deepcopy(traj_obj), 25)\n",
    "        df3 = return_sampled_df(deepcopy(traj_obj), 50)\n",
    "        sample_df_prep = pd.concat([df1, df2, df3], axis=0, ignore_index=True)\n",
    "        \n",
    "        X_mat = sample_df_prep[X_columns].values\n",
    "        y_vec = sample_df_prep[y_columns].values\n",
    "        \n",
    "        physics_metadata = {'inputPos': torch.tensor(sample_df_prep[[\"measured_x\", \"measured_y\", \"measured_z\"]][:-1].to_numpy(),\n",
    "                                     dtype=torch.float32),\n",
    "            \n",
    "                            'inputVel': torch.tensor(sample_df_prep[[\"measured_vx\", \"measured_vy\", \"measured_vz\"]][:-1].to_numpy(),\n",
    "                                     dtype=torch.float32), \n",
    "                            \n",
    "                            'inputObs': torch.tensor(sample_df_prep[[\"measured_plus_x\",\n",
    "                                                                    \"measured_plus_y\",\n",
    "                                                                    \"measured_plus_z\",\n",
    "                                                                    \"measured_plus_vx\",\n",
    "                                                                    \"measured_plus_vy\",\n",
    "                                                                    \"measured_plus_vz\"]][:-1].to_numpy(), \n",
    "                                                                    dtype=torch.float32),\n",
    "                            \n",
    "                            'inputRngErr': torch.tensor(sample_df_prep[[\"sigma_range\"]][:-1].to_numpy(), dtype=torch.float32),\n",
    "            \n",
    "                            'dtVec': torch.tensor(sample_df_prep[[\"delta_time\"]][:-1].to_numpy(), dtype=torch.float32)}\n",
    "        \n",
    "        augmented_full_proc_traj_data[traj_no] = {}\n",
    "        augmented_full_proc_traj_data[traj_no]['X_mat'] = torch.tensor(X_mat[:-1], dtype=torch.float32) \n",
    "        augmented_full_proc_traj_data[traj_no]['y_vec'] = torch.tensor(y_vec[:-1], dtype=torch.float32) \n",
    "        augmented_full_proc_traj_data[traj_no]['physics_meta_data'] = physics_metadata\n",
    "        \n",
    "               \n",
    "    with open(save_out, \"wb\") as f:\n",
    "        pickle.dump(augmented_full_proc_traj_data, f)\n",
    "        print(\"Saved!\")"
   ],
   "metadata": {
    "collapsed": false,
    "ExecuteTime": {
     "end_time": "2025-03-04T00:40:40.828715Z",
     "start_time": "2025-03-04T00:17:24.991507Z"
    }
   },
   "id": "e5be1b8b58765a67",
   "execution_count": 8
  },
  {
   "cell_type": "code",
   "outputs": [],
   "source": [
    "\n",
    "        \n",
    "        \n"
   ],
   "metadata": {
    "collapsed": false
   },
   "id": "6395d1bc04787d56"
  }
 ],
 "metadata": {
  "kernelspec": {
   "display_name": "Python 3",
   "language": "python",
   "name": "python3"
  },
  "language_info": {
   "codemirror_mode": {
    "name": "ipython",
    "version": 2
   },
   "file_extension": ".py",
   "mimetype": "text/x-python",
   "name": "python",
   "nbconvert_exporter": "python",
   "pygments_lexer": "ipython2",
   "version": "2.7.6"
  }
 },
 "nbformat": 4,
 "nbformat_minor": 5
}
