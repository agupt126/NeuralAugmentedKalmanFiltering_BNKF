{
 "cells": [
  {
   "cell_type": "code",
   "outputs": [],
   "source": [
    "import pickle\n",
    "import os\n",
    "from sklearn.model_selection import KFold\n",
    "import torch\n",
    "import numpy as np\n",
    "from models.bnkf import BNKF\n",
    "from helper.evaluator import Evaluator"
   ],
   "metadata": {
    "collapsed": false,
    "ExecuteTime": {
     "end_time": "2025-06-21T00:15:13.502654Z",
     "start_time": "2025-06-21T00:15:06.433193Z"
    }
   },
   "id": "c93441c54e8d1eb8",
   "execution_count": 1
  },
  {
   "cell_type": "code",
   "outputs": [],
   "source": [
    "# training params\n",
    "incl_rr = True\n",
    "\n",
    "X_columns = [\"measured_x\", \"measured_y\", \"measured_z\", \"measured_vx\", \"measured_vy\", \"measured_vz\",\n",
    "             \"measured_plus_x\", \"measured_plus_y\", \"measured_plus_z\", \"measured_plus_vx\", \"measured_plus_vy\", \"measured_plus_vz\", \"sigma_range\", \"sigma_range_rate\", \"sigma_elevation\", \"sigma_bearing\", \"delta_time\"]\n",
    "\n",
    "y_columns = [\"truth_x\", \"truth_y\", \"truth_z\", \"truth_vx\", \"truth_vy\", \"truth_vz\"]"
   ],
   "metadata": {
    "collapsed": false,
    "ExecuteTime": {
     "end_time": "2025-06-21T00:15:13.506230Z",
     "start_time": "2025-06-21T00:15:13.503771Z"
    }
   },
   "id": "d945e9be09b5b28f",
   "execution_count": 2
  },
  {
   "cell_type": "code",
   "outputs": [],
   "source": [
    "def construct_dict_folds(full_trajectory_dict, k=5):\n",
    "    kf = KFold(n_splits=k, shuffle=True, random_state=42)\n",
    "    indices = []\n",
    "    keys = list(full_trajectory_dict.keys())\n",
    "    \n",
    "    for train_indices, test_indices in kf.split(keys):\n",
    "        train_keys = [keys[i] for i in train_indices]\n",
    "        test_keys = [keys[i] for i in test_indices]\n",
    "        indices.append((train_keys, test_keys))\n",
    "    return indices"
   ],
   "metadata": {
    "collapsed": false,
    "ExecuteTime": {
     "end_time": "2025-06-21T00:15:13.510863Z",
     "start_time": "2025-06-21T00:15:13.507180Z"
    }
   },
   "id": "1573cafcc6d4e3f6",
   "execution_count": 3
  },
  {
   "cell_type": "code",
   "outputs": [],
   "source": [
    "def return_index_cv_params(full_proc_traj_data_in, cv_indices):\n",
    "    train_X_mats = []\n",
    "    train_y_vecs = []\n",
    "    test_X_mats = []\n",
    "    test_y_vecs = []\n",
    "    \n",
    "    physics_metadata_train_dicts = []\n",
    "    physics_metadata_test_dicts = []\n",
    "    \n",
    "    for index in cv_indices:\n",
    "    \n",
    "        train_pmd_dict = {\n",
    "            'inputPos': torch.cat([full_proc_traj_data_in[key]['physics_meta_data']['inputPos'] for key in index[0]], dim=0),\n",
    "            'inputVel': torch.cat([full_proc_traj_data_in[key]['physics_meta_data']['inputVel'] for key in index[0]], dim=0),\n",
    "            'inputObs': torch.cat([full_proc_traj_data_in[key]['physics_meta_data']['inputObs'] for key in index[0]], dim=0),\n",
    "            'inputRngErr': torch.cat([full_proc_traj_data_in[key]['physics_meta_data']['inputRngErr'] for key in index[0]], dim=0),\n",
    "            'dtVec': torch.cat([full_proc_traj_data_in[key]['physics_meta_data']['dtVec'] for key in index[0]], dim=0)}\n",
    "        \n",
    "        train_X_mats.append(torch.cat([full_proc_traj_data_in[key]['X_mat'] for key in index[0]], dim=0))\n",
    "        train_y_vecs.append(torch.cat([full_proc_traj_data_in[key]['y_vec'] for key in index[0]], dim=0))\n",
    "        physics_metadata_train_dicts.append(train_pmd_dict)\n",
    "        \n",
    "        test_pmd_dict = {\n",
    "            'inputPos': torch.cat([full_proc_traj_data_in[key]['physics_meta_data']['inputPos'] for key in index[1]], dim=0),\n",
    "            'inputVel': torch.cat([full_proc_traj_data_in[key]['physics_meta_data']['inputVel'] for key in index[1]], dim=0),\n",
    "            'inputObs': torch.cat([full_proc_traj_data_in[key]['physics_meta_data']['inputObs'] for key in index[1]], dim=0),\n",
    "            'inputRngErr': torch.cat([full_proc_traj_data_in[key]['physics_meta_data']['inputRngErr'] for key in index[1]], dim=0),\n",
    "            'dtVec': torch.cat([full_proc_traj_data_in[key]['physics_meta_data']['dtVec'] for key in index[1]], dim=0)}\n",
    "        \n",
    "        test_X_mats.append(torch.cat([full_proc_traj_data_in[key]['X_mat'] for key in index[1]], dim=0))\n",
    "        test_y_vecs.append(torch.cat([full_proc_traj_data_in[key]['y_vec'] for key in index[1]], dim=0))\n",
    "        physics_metadata_test_dicts.append(test_pmd_dict)\n",
    "        \n",
    "    return train_X_mats, train_y_vecs, test_X_mats, test_y_vecs, physics_metadata_train_dicts, physics_metadata_test_dicts"
   ],
   "metadata": {
    "collapsed": false,
    "ExecuteTime": {
     "end_time": "2025-06-21T00:15:13.517623Z",
     "start_time": "2025-06-21T00:15:13.511790Z"
    }
   },
   "id": "9cd941b874c14c06",
   "execution_count": 4
  },
  {
   "cell_type": "code",
   "outputs": [],
   "source": [
    "def evaluate_model_outputs(y_pred_state, y_pred_covs, y_truth_state):\n",
    "    TestEval = Evaluator()\n",
    "        \n",
    "    full_pred_pos = y_pred_state[:, 0:3]\n",
    "    full_truth_pos = y_truth_state[:, 0:3].cpu().numpy()\n",
    "    \n",
    "    proc_covariances = []    \n",
    "    for idx, cov_vec in enumerate(y_pred_covs):\n",
    "        proc_covariances.append(y_pred_covs[idx, 0:3, 0:3])\n",
    "        \n",
    "    avg_err = TestEval.calculate_3d_avg_euclid_error(full_truth_pos[:, 0], full_truth_pos[:, 1], full_truth_pos[:, 2], full_pred_pos[:, 0], full_pred_pos[:, 1], full_pred_pos[:, 2])\n",
    "\n",
    "    avg_md = TestEval.average_mahalanobis_distance(full_pred_pos, proc_covariances, full_truth_pos)\n",
    "        \n",
    "    avg_det = TestEval.compute_average_determinant(proc_covariances)\n",
    "    \n",
    "    avg_trace = TestEval.compute_average_covariance_trace(proc_covariances)\n",
    "    \n",
    "    return avg_err, avg_md, avg_trace, avg_det"
   ],
   "metadata": {
    "collapsed": false,
    "ExecuteTime": {
     "end_time": "2025-06-21T00:15:13.524201Z",
     "start_time": "2025-06-21T00:15:13.520777Z"
    }
   },
   "id": "e88dc5a44d7f2902",
   "execution_count": 5
  },
  {
   "cell_type": "code",
   "outputs": [],
   "source": [
    "def cross_validate_pinn_model(full_proc_traj_data_in, cv_folds_in, sensor_noise_in='mid', show_info=False, epochs_in=1000, single_split=False):\n",
    "    train_X_mats_cv, train_y_vecs_cv, test_X_mats_cv, test_y_vecs_cv, physics_metadata_train_dicts_cv, physics_metadata_test_dicts_cv = return_index_cv_params(full_proc_traj_data_in, cv_folds_in)\n",
    "    \n",
    "    pred_eds = [] \n",
    "    pred_mds = [] \n",
    "    pred_traces = []\n",
    "    pred_dets = []\n",
    "    \n",
    "    lambda_params_in = {'ml': 1, 'physics': 0}\n",
    "    \n",
    "    for jdx, X_mat_train in enumerate(train_X_mats_cv):\n",
    "        y_vec_train = train_y_vecs_cv[jdx]\n",
    "        X_mat_test = test_X_mats_cv[jdx]\n",
    "        y_vec_test = test_y_vecs_cv[jdx]\n",
    "        physics_metadata_train = physics_metadata_train_dicts_cv[jdx]\n",
    "        physics_metadata_test = physics_metadata_test_dicts_cv[jdx]\n",
    "   \n",
    "        nn_model = BNKF(input_size=X_mat_train.shape[1], output_size=y_vec_train.shape[1], hidden_layer_size=64, sensor_noise_level=sensor_noise_in,\n",
    "             prior_sigma_lay=0.01, lambda_params=lambda_params_in, epochs=epochs_in, bias_in=True)\n",
    "        nn_model.fit(X_mat_train, y_vec_train, physics_metadata_train)\n",
    "        nn_state_est_vecs, nn_state_cov_mats = nn_model.predict(X_mat_test, physics_metadata_test, apply_filter_update=False)\n",
    "        \n",
    "        ed, md, trace, det = evaluate_model_outputs(nn_state_est_vecs, nn_state_cov_mats, y_vec_test)\n",
    "        \n",
    "        pred_eds.append(ed)\n",
    "        pred_mds.append(md)\n",
    "        pred_traces.append(trace)\n",
    "        pred_dets.append(det)\n",
    "        \n",
    "        if show_info:\n",
    "            print(f\"FINAL LOSS k={index}: {nn_model.loss_values[-1]}\")\n",
    "        if single_split:\n",
    "            break\n",
    "    return pred_eds, pred_mds, pred_traces, pred_dets"
   ],
   "metadata": {
    "collapsed": true,
    "ExecuteTime": {
     "end_time": "2025-06-21T00:15:13.530515Z",
     "start_time": "2025-06-21T00:15:13.525530Z"
    }
   },
   "id": "initial_id",
   "execution_count": 6
  },
  {
   "cell_type": "markdown",
   "source": [
    "## REGULAR TESTING"
   ],
   "metadata": {
    "collapsed": false
   },
   "id": "3a32f820890f3360"
  },
  {
   "cell_type": "markdown",
   "source": [
    "## ORIGINAL TRAIN, TEST ORIGINAL"
   ],
   "metadata": {
    "collapsed": false
   },
   "id": "70a5dbccf33123d5"
  },
  {
   "cell_type": "code",
   "outputs": [],
   "source": [
    "# %%time\n",
    "# sensor_noise_types = ['low', 'mid', 'high']\n",
    "# folds = 2\n",
    "# epochs = 5000\n",
    "# \n",
    "# for sensor_noise_level in sensor_noise_types:\n",
    "#     path_3 = f\"../../dataset/dataframe-readins/full_traj_data_proc_noise_{sensor_noise_level}.pkl\"\n",
    "#     if os.path.exists(path_3):\n",
    "#         with open(path_3, \"rb\") as c:\n",
    "#             full_proc_traj_data = pickle.load(c)\n",
    "# \n",
    "#     cv_folds = construct_dict_folds(full_proc_traj_data, k=folds)\n",
    "#     out_pred_eds, out_pred_mds, out_pred_uncers, out_pred_dets = cross_validate_pinn_model(full_proc_traj_data, cv_folds, sensor_noise_level, epochs_in=epochs)\n",
    "#     \n",
    "#     print(f\"CV RESULTS ON NOISE LEVEL: {sensor_noise_level.upper()}\")\n",
    "#     print(\"\\n\")\n",
    "#     print(f\"AVG ED: {np.mean(out_pred_eds)}\")\n",
    "#     print(f\"AVG MD: {np.mean(out_pred_mds)}\")\n",
    "#     print(f\"AVG UNCER: {np.mean(out_pred_uncers)}\")\n",
    "#     print(f\"AVG DET: {np.mean(out_pred_dets)}\")"
   ],
   "metadata": {
    "collapsed": false,
    "ExecuteTime": {
     "end_time": "2025-06-21T00:15:13.534614Z",
     "start_time": "2025-06-21T00:15:13.531348Z"
    }
   },
   "id": "60d5c18d65a31c0b",
   "execution_count": 7
  },
  {
   "cell_type": "markdown",
   "source": [
    "## AUGMENT TRAIN, TEST AUGMENT"
   ],
   "metadata": {
    "collapsed": false
   },
   "id": "600825a1acbae09"
  },
  {
   "cell_type": "code",
   "outputs": [
    {
     "name": "stderr",
     "output_type": "stream",
     "text": [
      " Epoch: 1000/1000 | Loss:   1.94 "
     ]
    },
    {
     "name": "stdout",
     "output_type": "stream",
     "text": [
      "CV RESULTS ON NOISE LEVEL: LOW\n",
      "\n",
      "\n",
      "AVG ED: 1.3584184646606445\n",
      "AVG MD: 1.5907580337062348\n",
      "AVG TRACE: 2.870838165283203\n",
      "AVG DET: 1.3964189416971655\n"
     ]
    },
    {
     "name": "stderr",
     "output_type": "stream",
     "text": [
      " Epoch: 1000/1000 | Loss:   6.44 "
     ]
    },
    {
     "name": "stdout",
     "output_type": "stream",
     "text": [
      "CV RESULTS ON NOISE LEVEL: MID\n",
      "\n",
      "\n",
      "AVG ED: 4.722892761230469\n",
      "AVG MD: 5.488800250954494\n",
      "AVG TRACE: 3.0032615661621094\n",
      "AVG DET: 1.5446388321239803\n"
     ]
    },
    {
     "name": "stderr",
     "output_type": "stream",
     "text": [
      " Epoch: 1000/1000 | Loss:  20.38 "
     ]
    },
    {
     "name": "stdout",
     "output_type": "stream",
     "text": [
      "CV RESULTS ON NOISE LEVEL: HIGH\n",
      "\n",
      "\n",
      "AVG ED: 8.599570274353027\n",
      "AVG MD: 5.817453221991461\n",
      "AVG TRACE: 7.82319974899292\n",
      "AVG DET: 11.1135072748194\n",
      "CPU times: user 3h 55min 18s, sys: 1h 6min 45s, total: 5h 2min 4s\n",
      "Wall time: 2h 10min\n"
     ]
    }
   ],
   "source": [
    "%%time\n",
    "sensor_noise_types = ['low', 'mid', 'high']\n",
    "folds = 5\n",
    "epochs = 1000\n",
    "\n",
    "for sensor_noise_level in sensor_noise_types:\n",
    "    aug_path_in = f\"../../dataset/dataframe-readins/cv/augmented/full_traj_data_proc_noise_{sensor_noise_level}.pkl\"\n",
    "\n",
    "    if os.path.exists(aug_path_in):\n",
    "        with open(aug_path_in, \"rb\") as e:\n",
    "            aug_proc_traj_data = pickle.load(e)\n",
    "\n",
    "    cv_folds = construct_dict_folds(aug_proc_traj_data, k=folds)\n",
    "    out_pred_eds, out_pred_mds, out_pred_traces, out_pred_dets = cross_validate_pinn_model(aug_proc_traj_data, cv_folds, sensor_noise_in=sensor_noise_level, epochs_in=epochs, single_split=True)\n",
    "\n",
    "    print(f\"CV RESULTS ON NOISE LEVEL: {sensor_noise_level.upper()}\")\n",
    "    print(\"\\n\")\n",
    "    print(f\"AVG ED: {np.mean(out_pred_eds)}\")\n",
    "    print(f\"AVG MD: {np.mean(out_pred_mds)}\")\n",
    "    print(f\"AVG TRACE: {np.mean(out_pred_traces)}\")\n",
    "    print(f\"AVG DET: {np.mean(out_pred_dets)}\")\n"
   ],
   "metadata": {
    "collapsed": false,
    "ExecuteTime": {
     "end_time": "2025-06-21T02:25:14.244690Z",
     "start_time": "2025-06-21T00:15:13.535412Z"
    }
   },
   "id": "e32056e76608aac3",
   "execution_count": 8
  },
  {
   "cell_type": "markdown",
   "source": [
    "## ONE MODEL FOR ALL"
   ],
   "metadata": {
    "collapsed": false
   },
   "id": "12864f7c57dad9e0"
  },
  {
   "cell_type": "code",
   "outputs": [],
   "source": [
    "# %%time\n",
    "# do = True\n",
    "# if do:\n",
    "#     sensor_noise_types = ['low', 'mid', 'high']\n",
    "#     folds = 5\n",
    "#     consolidated_dict = {}\n",
    "#     for index, sensor_noise_level in enumerate(sensor_noise_types):\n",
    "#         aug_path_in = f\"../../dataset/dataframe-readins/cv/augmented/full_traj_data_proc_noise_{sensor_noise_level}.pkl\"\n",
    "# \n",
    "#         if os.path.exists(aug_path_in):\n",
    "#             with open(aug_path_in, \"rb\") as e:\n",
    "#                 aug_proc_traj_data = pickle.load(e)\n",
    "#         num_traj = len(aug_proc_traj_data)\n",
    "# \n",
    "#         if index == 1:\n",
    "#             start_idx = num_traj+1\n",
    "#             end_idx = start_idx + num_traj\n",
    "#             new_keys = range(start_idx, end_idx)\n",
    "#             reset_dict = dict(zip(new_keys, aug_proc_traj_data.values()))\n",
    "#             consolidated_dict.update(reset_dict)\n",
    "#         elif index == 2:\n",
    "#             start_idx = (num_traj*2)+2\n",
    "#             end_idx = start_idx + num_traj\n",
    "#             new_keys = range(start_idx, end_idx)\n",
    "# \n",
    "#             reset_dict = dict(zip(new_keys, aug_proc_traj_data.values()))\n",
    "#             consolidated_dict.update(reset_dict)\n",
    "#         else:\n",
    "#             consolidated_dict.update(aug_proc_traj_data)\n",
    "# \n",
    "#     cv_folds = construct_dict_folds(consolidated_dict, k=folds)"
   ],
   "metadata": {
    "collapsed": false,
    "ExecuteTime": {
     "end_time": "2025-06-21T02:25:14.283877Z",
     "start_time": "2025-06-21T02:25:14.258433Z"
    }
   },
   "id": "978e76239bac3976",
   "execution_count": 9
  },
  {
   "cell_type": "code",
   "outputs": [],
   "source": [
    "# out_pred_eds, out_pred_mds, out_pred_traces, out_pred_dets = cross_validate_pinn_model(consolidated_dict, cv_folds, epochs_in=1000, single_split=False)\n",
    "# \n",
    "# print(f\"CV RESULTS AVERAGED ACROSS ALL NOISE LEVELS\")\n",
    "# print(\"\\n\")\n",
    "# print(f\"AVG ED: {np.mean(out_pred_eds)}\")\n",
    "# print(f\"AVG MD: {np.mean(out_pred_mds)}\")\n",
    "# print(f\"AVG TRACE: {np.mean(out_pred_traces)}\")\n",
    "# print(f\"AVG DET: {np.mean(out_pred_dets)}\")"
   ],
   "metadata": {
    "collapsed": false,
    "ExecuteTime": {
     "end_time": "2025-06-21T02:25:14.292574Z",
     "start_time": "2025-06-21T02:25:14.285678Z"
    }
   },
   "id": "b9a1f0f05a9c1b8f",
   "execution_count": 10
  },
  {
   "cell_type": "code",
   "outputs": [],
   "source": [],
   "metadata": {
    "collapsed": false,
    "ExecuteTime": {
     "end_time": "2025-06-21T02:25:14.295804Z",
     "start_time": "2025-06-21T02:25:14.293747Z"
    }
   },
   "id": "774a5eaeb8167714",
   "execution_count": 10
  }
 ],
 "metadata": {
  "kernelspec": {
   "display_name": "Python 3",
   "language": "python",
   "name": "python3"
  },
  "language_info": {
   "codemirror_mode": {
    "name": "ipython",
    "version": 2
   },
   "file_extension": ".py",
   "mimetype": "text/x-python",
   "name": "python",
   "nbconvert_exporter": "python",
   "pygments_lexer": "ipython2",
   "version": "2.7.6"
  }
 },
 "nbformat": 4,
 "nbformat_minor": 5
}
